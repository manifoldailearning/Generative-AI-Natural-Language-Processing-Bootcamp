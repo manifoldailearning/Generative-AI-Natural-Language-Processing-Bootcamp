{
  "nbformat": 4,
  "nbformat_minor": 0,
  "metadata": {
    "colab": {
      "provenance": []
    },
    "kernelspec": {
      "name": "python3",
      "display_name": "Python 3"
    },
    "language_info": {
      "name": "python"
    }
  },
  "cells": [
    {
      "cell_type": "code",
      "execution_count": null,
      "metadata": {
        "colab": {
          "base_uri": "https://localhost:8080/"
        },
        "id": "Zoc_clu6poY5",
        "outputId": "2d422fb2-218d-4d32-d604-887a73871f74"
      },
      "outputs": [
        {
          "output_type": "stream",
          "name": "stdout",
          "text": [
            "Looking in indexes: https://pypi.org/simple, https://us-python.pkg.dev/colab-wheels/public/simple/\n",
            "Requirement already satisfied: tweepy in /usr/local/lib/python3.8/dist-packages (3.10.0)\n",
            "Requirement already satisfied: requests-oauthlib>=0.7.0 in /usr/local/lib/python3.8/dist-packages (from tweepy) (1.3.1)\n",
            "Requirement already satisfied: six>=1.10.0 in /usr/local/lib/python3.8/dist-packages (from tweepy) (1.15.0)\n",
            "Requirement already satisfied: requests[socks]>=2.11.1 in /usr/local/lib/python3.8/dist-packages (from tweepy) (2.25.1)\n",
            "Requirement already satisfied: oauthlib>=3.0.0 in /usr/local/lib/python3.8/dist-packages (from requests-oauthlib>=0.7.0->tweepy) (3.2.2)\n",
            "Requirement already satisfied: certifi>=2017.4.17 in /usr/local/lib/python3.8/dist-packages (from requests[socks]>=2.11.1->tweepy) (2022.12.7)\n",
            "Requirement already satisfied: urllib3<1.27,>=1.21.1 in /usr/local/lib/python3.8/dist-packages (from requests[socks]>=2.11.1->tweepy) (1.24.3)\n",
            "Requirement already satisfied: idna<3,>=2.5 in /usr/local/lib/python3.8/dist-packages (from requests[socks]>=2.11.1->tweepy) (2.10)\n",
            "Requirement already satisfied: chardet<5,>=3.0.2 in /usr/local/lib/python3.8/dist-packages (from requests[socks]>=2.11.1->tweepy) (4.0.0)\n",
            "Requirement already satisfied: PySocks!=1.5.7,>=1.5.6 in /usr/local/lib/python3.8/dist-packages (from requests[socks]>=2.11.1->tweepy) (1.7.1)\n"
          ]
        }
      ],
      "source": [
        "!pip install tweepy"
      ]
    },
    {
      "cell_type": "code",
      "source": [
        "ACCESS_TOKEN = '1414851728189497352-oVv8CIc6qV2G1g6F1j1KpmT4sQrCPe'\n",
        "ACCESS_SECRET = 'LWo2YtLIXxdgUItPJh62MD7nGSImwzCvCDCOpCpqwNCgS'\n",
        "CONSUMER_KEY = 'ZE5OUm01S1VTRzJMRjFSaTNQZEs6MTpjaQ'\n",
        "CONSUMER_SECRET = 'jzXBFDTNf0cVaR6X4-Tlr0X6ZMLqxKDjBn4RmyvJWyiTHrDSd9'\n",
        "\n",
        "import tweepy\n",
        "\n",
        "def connect_to_twiiter_OAuth():\n",
        "  auth = tweepy.OAuthHandler(CONSUMER_KEY,CONSUMER_SECRET)\n",
        "  auth.set_access_token(ACCESS_TOKEN,ACCESS_SECRET)\n",
        "\n",
        "  api = tweepy.API(auth)\n",
        "  return api\n",
        "\n",
        "\n",
        "api = connect_to_twiiter_OAuth()\n"
      ],
      "metadata": {
        "id": "dJtBMkgKpp9O"
      },
      "execution_count": null,
      "outputs": []
    },
    {
      "cell_type": "code",
      "source": [
        "public_tweets = api.home_timeline()\n",
        "for tweet in public_tweets:\n",
        "  print(tweet.text)"
      ],
      "metadata": {
        "colab": {
          "base_uri": "https://localhost:8080/"
        },
        "id": "UhW90kpGqob7",
        "outputId": "0f9f8d16-a2ea-4562-af0f-4d5f0564748d"
      },
      "execution_count": null,
      "outputs": [
        {
          "output_type": "stream",
          "name": "stdout",
          "text": [
            "त्रिपुरा में शांति स्थापना एवं विकास को मिली नई रफ्तार,\n",
            "इसलिए जन-जन कह रहा है कि एक बार फिर आ रही भाजपा सरकार।… https://t.co/8XuA4QLrC5\n",
            "आदरणीय राष्ट्रीय अध्यक्ष श्री @JPNadda जी ने आज त्रिपुरा के उन्नाकोटि जिले में आयोजित विजय संकल्प जनसभा को संबोधित… https://t.co/B8YiFOYcOr\n",
            "We are working for Peace and Development in Tripura. \n",
            "\n",
            "Tripura has immense potential in developing tourism sector;… https://t.co/O1GEpE2j64\n",
            "जनपद प्रयागराज में हाईकोर्ट बार एसोसिएशन, इलाहाबाद की स्थापना के 150 वर्ष पूर्ण होने पर आयोजित कार्यक्रम में... https://t.co/XIMdPUpwUK\n",
            "5 years ago, Tripura was known for strikes, violence, and insurgency with no Law and order.\n",
            "\n",
            "We brought Peace, Tour… https://t.co/o6U6SGIwvZ\n",
            "Union Budget 2023-24 is the first budget of 'Amrit Kaal'; it is a budget filled with aspirations, a budget yielding… https://t.co/J4KPRVTUVu\n",
            "Congress and the communists did corruption, levied commissions, and were involved in political violence. \n",
            "\n",
            "Today bo… https://t.co/TbsyEOatGE\n",
            "BJP National President Shri @JPNadda Ji addresses Vijay Sankalp Rally in Kumarghat, Tripura.… https://t.co/kSQWP2xtJy\n",
            "RT @JPNadda: Addressing #VijaySankalpRally in Amarpur, Tripura. https://t.co/qzDdUHfqVT\n",
            "RT @JPNadda: आज त्रिपुरा स्थित माँ मंगलचंडी की पुण्यधरा अमरपुर की जनसभा में जन-जन का उत्साह बता रहा है कि प्रदेश में भाजपा पर लोगों का अटूट…\n",
            "त्रिपुरा है तैयार,\n",
            "एक बार फिर भाजपा सरकार!\n",
            "\n",
            "आज आदरणीय राष्ट्रीय अध्यक्ष श्री @JPNadda जी ने त्रिपुरा के अमरपुर में… https://t.co/MzK1CuvoOU\n",
            "भाजपा-मय त्रिपुरा...\n",
            "\n",
            "#VijaySankalpJansabha https://t.co/wCJM4zYCYb\n",
            "त्रिपुरा के अमरपुर में आयोजित ‘विजय संकल्प जनसभा’ में आदरणीय राष्ट्रीय अध्यक्ष श्री @JPNadda जी का अभूतपूर्व स्वागत! https://t.co/WojQoy8NTt\n",
            "Hon’ble BJP National President Shri @JPNadda Ji addresses Vijay Sankalp Rally in Amarpur, Tripura.… https://t.co/YuzQ63ql3h\n",
            "त्रिपुरा के अमरपुर विधानसभा क्षेत्र में आयोजित आदरणीय राष्ट्रीय अध्यक्ष श्री @JPNadda जी की ‘विजय संकल्प जनसभा’ में… https://t.co/wPWhY11Bs6\n",
            "Honoured to welcome the Hon'ble National President of @BJP4India, Shri @JPNadda Ji at the Agartala Airport, Tripura… https://t.co/S5SjVsTm96\n",
            "सुस्वागतम् आदरणीय राष्ट्रीय अध्यक्ष जी...\n",
            "\n",
            "माँ त्रिपुरेश्वरी की पुण्य भूमि त्रिपुरा आगमन पर भारतीय जनता पार्टी के य… https://t.co/herE7jf607\n",
            "लोकतांत्रिक मूल्यों के प्रति गहरी आस्था रखने वाले कर्मठ सदस्यों की उपस्थिति उ.प्र. विधान परिषद की गरिमा को बढ़ाएगी।… https://t.co/pty4Vl8vzF\n",
            "उत्तर प्रदेश विधान परिषद के चुनाव में विजयी सभी प्रत्याशियों को हार्दिक बधाई!\n",
            "\n",
            "राज्य विधान मण्डल के उच्च सदन के लिए… https://t.co/q9nnHz2iPt\n",
            "RT @narendramodi: Glad to see various endeavours, like this one, being undertaken across India to make Shree Ann popular.\n"
          ]
        }
      ]
    },
    {
      "cell_type": "code",
      "source": [
        "elon_tweets = api.user_timeline('elonmusk')\n",
        "for tweet in elon_tweets:\n",
        "  print(tweet.text)"
      ],
      "metadata": {
        "colab": {
          "base_uri": "https://localhost:8080/"
        },
        "id": "AanIs40hq0Jf",
        "outputId": "60445954-895c-4d17-8265-8f95df2e9bc9"
      },
      "execution_count": null,
      "outputs": [
        {
          "output_type": "stream",
          "name": "stdout",
          "text": [
            "@PepitoTheCat @BillyM2k @ericnakagawa I guess we could give all Verified users access to the API for posts like this\n",
            "@ShantMM 🤣\n",
            "@WholeMarsBlog Sucks that I had to sell so much Tesla stock to do so (sigh)\n",
            "@WholeMarsBlog Me neither\n",
            "@DriveTeslaca Yeah. Still many small tweaks to make it better (and the side mirrors are removable by owner), but th… https://t.co/gDCwEa4MMK\n",
            "@BillyM2k @ericnakagawa Yuh, that is par for the course\n",
            "@TitterTakeover Super appreciate support of @NFL &amp; major advertisers &amp; congrats to Twitter team!\n",
            "@TitterTakeover @Twitter Progress!\n",
            "@BillyM2k @ericnakagawa Yeah, free API is being abused badly right now by bot scammers &amp; opinion manipulators. Ther… https://t.co/EtwqMNQBmv\n",
            "Congrats Falcon &amp; Starlink teams! https://t.co/J5s7zLqRDf\n",
            "@BillyM2k Reply threads are the modern forum for debates\n",
            "@BillyM2k True\n",
            "In turbulent economic times, be wary of using margin loans to buy stock\n",
            "@AwakenWithJP Very effective\n",
            "@DrJBhattacharya Wow\n",
            "@0xfoobar 🤣🤣\n",
            "RT @SpaceX: Falcon 9’s first stage has landed on the A Shortfall of Gravitas droneship https://t.co/9a56rWumR1\n",
            "@Rainmaker1973 Humanity takes up very little of Earth’s surface area – you can fit the entire population of Earth i… https://t.co/vUX8dn5QmU\n",
            "@TheBabylonBee 🤣\n",
            "@jakeshieldsajj 🔥🔥\n"
          ]
        }
      ]
    },
    {
      "cell_type": "code",
      "source": [],
      "metadata": {
        "id": "NlA3NabMrhK7"
      },
      "execution_count": null,
      "outputs": []
    }
  ]
}