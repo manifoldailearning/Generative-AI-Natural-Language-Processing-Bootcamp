{
 "cells": [
  {
   "cell_type": "code",
   "execution_count": 2,
   "metadata": {
    "id": "ye4yhhyf81c7"
   },
   "outputs": [],
   "source": [
    "#word2vec\n",
    "# 100B words - google news dataset\n",
    "# 3 million words, each word has 300 features"
   ]
  },
  {
   "cell_type": "code",
   "execution_count": 1,
   "metadata": {
    "colab": {
     "base_uri": "https://localhost:8080/"
    },
    "id": "0M51EVnN6KNl",
    "outputId": "a8cbb018-afe4-4cfd-f195-baf3bd7edd30"
   },
   "outputs": [
    {
     "name": "stdout",
     "output_type": "stream",
     "text": [
      "Collecting gdown\n",
      "  Downloading gdown-5.2.0-py3-none-any.whl.metadata (5.8 kB)\n",
      "Requirement already satisfied: beautifulsoup4 in /opt/anaconda3/lib/python3.11/site-packages (from gdown) (4.12.2)\n",
      "Requirement already satisfied: filelock in /opt/anaconda3/lib/python3.11/site-packages (from gdown) (3.13.1)\n",
      "Requirement already satisfied: requests[socks] in /opt/anaconda3/lib/python3.11/site-packages (from gdown) (2.31.0)\n",
      "Requirement already satisfied: tqdm in /opt/anaconda3/lib/python3.11/site-packages (from gdown) (4.65.0)\n",
      "Requirement already satisfied: soupsieve>1.2 in /opt/anaconda3/lib/python3.11/site-packages (from beautifulsoup4->gdown) (2.5)\n",
      "Requirement already satisfied: charset-normalizer<4,>=2 in /opt/anaconda3/lib/python3.11/site-packages (from requests[socks]->gdown) (2.0.4)\n",
      "Requirement already satisfied: idna<4,>=2.5 in /opt/anaconda3/lib/python3.11/site-packages (from requests[socks]->gdown) (3.4)\n",
      "Requirement already satisfied: urllib3<3,>=1.21.1 in /opt/anaconda3/lib/python3.11/site-packages (from requests[socks]->gdown) (2.0.7)\n",
      "Requirement already satisfied: certifi>=2017.4.17 in /opt/anaconda3/lib/python3.11/site-packages (from requests[socks]->gdown) (2024.2.2)\n",
      "Requirement already satisfied: PySocks!=1.5.7,>=1.5.6 in /opt/anaconda3/lib/python3.11/site-packages (from requests[socks]->gdown) (1.7.1)\n",
      "Downloading gdown-5.2.0-py3-none-any.whl (18 kB)\n",
      "Installing collected packages: gdown\n",
      "Successfully installed gdown-5.2.0\n",
      "1n5qxSJCfJjMKrmOjIYdkLkK9v2L0BJ73\n",
      "Downloading...\n",
      "From (original): https://drive.google.com/uc?id=1n5qxSJCfJjMKrmOjIYdkLkK9v2L0BJ73\n",
      "From (redirected): https://drive.google.com/uc?id=1n5qxSJCfJjMKrmOjIYdkLkK9v2L0BJ73&confirm=t&uuid=836214e0-b9ec-40e3-acf0-239891cb57c4\n",
      "To: /Users/nachikethpro/Desktop/author-repo/Generative-AI-Natural-Language-Processing-Bootcamp/3.word-embeddings/GoogleNews-vectors-negative300.bin.gz\n",
      " 45%|█████████████████▍                     | 738M/1.65G [01:09<00:29, 30.7MB/s]^C\n",
      "Traceback (most recent call last):\n",
      "  File \"/opt/anaconda3/bin/gdown\", line 8, in <module>\n",
      "    sys.exit(main())\n",
      "             ^^^^^^\n",
      "  File \"/opt/anaconda3/lib/python3.11/site-packages/gdown/__main__.py\", line 172, in main\n",
      "    download(\n",
      "  File \"/opt/anaconda3/lib/python3.11/site-packages/gdown/download.py\", line 368, in download\n",
      "    for chunk in res.iter_content(chunk_size=CHUNK_SIZE):\n",
      "  File \"/opt/anaconda3/lib/python3.11/site-packages/requests/models.py\", line 816, in generate\n",
      "    yield from self.raw.stream(chunk_size, decode_content=True)\n",
      "  File \"/opt/anaconda3/lib/python3.11/site-packages/urllib3/response.py\", line 936, in stream\n",
      "    data = self.read(amt=amt, decode_content=decode_content)\n",
      "           ^^^^^^^^^^^^^^^^^^^^^^^^^^^^^^^^^^^^^^^^^^^^^^^^^\n",
      "  File \"/opt/anaconda3/lib/python3.11/site-packages/urllib3/response.py\", line 879, in read\n",
      "    data = self._raw_read(amt)\n",
      "           ^^^^^^^^^^^^^^^^^^^\n",
      "  File \"/opt/anaconda3/lib/python3.11/site-packages/urllib3/response.py\", line 814, in _raw_read\n",
      "    data = self._fp_read(amt) if not fp_closed else b\"\"\n",
      "           ^^^^^^^^^^^^^^^^^^\n",
      "  File \"/opt/anaconda3/lib/python3.11/site-packages/urllib3/response.py\", line 799, in _fp_read\n",
      "    return self._fp.read(amt) if amt is not None else self._fp.read()\n",
      "           ^^^^^^^^^^^^^^^^^^\n",
      "  File \"/opt/anaconda3/lib/python3.11/http/client.py\", line 473, in read\n",
      "    s = self.fp.read(amt)\n",
      "        ^^^^^^^^^^^^^^^^^\n",
      "  File \"/opt/anaconda3/lib/python3.11/socket.py\", line 700, in readinto\n",
      "    self._checkClosed()\n",
      "KeyboardInterrupt\n",
      " 45%|█████████████████▌                     | 741M/1.65G [01:10<01:25, 10.6MB/s]\n"
     ]
    }
   ],
   "source": [
    "!pip install gdown --upgrade \n",
    " # Place the Google Drive Sharing link\n",
    "file_share_link = \"https://drive.google.com/file/d/1n5qxSJCfJjMKrmOjIYdkLkK9v2L0BJ73/view?usp=drive_link\"\n",
    "\n",
    "# extract the ID of the file\n",
    "file_id = file_share_link[file_share_link.find(\"d/\")+2 : file_share_link.find(\"/v\")]\n",
    "print(file_id)\n",
    "!gdown \"$file_id\" # Download the data from Google Drive"
   ]
  },
  {
   "cell_type": "code",
   "execution_count": 2,
   "metadata": {
    "colab": {
     "base_uri": "https://localhost:8080/"
    },
    "id": "UL4PK4jm9XTb",
    "outputId": "c3ab5a3e-744b-46b4-b591-ed1ee134d106"
   },
   "outputs": [
    {
     "name": "stdout",
     "output_type": "stream",
     "text": [
      "gunzip: can't stat: GoogleNews-vectors-negative300.bin.gz (GoogleNews-vectors-negative300.bin.gz.gz): No such file or directory\n"
     ]
    }
   ],
   "source": [
    "!gunzip GoogleNews-vectors-negative300.bin.gz"
   ]
  },
  {
   "cell_type": "code",
   "execution_count": 5,
   "metadata": {
    "id": "1ER7qVcd5nHj"
   },
   "outputs": [],
   "source": [
    "# gensim\n",
    "import gensim\n",
    "\n",
    "model_path = \"/content/GoogleNews-vectors-negative300.bin\"\n",
    "\n",
    "model = gensim.models.KeyedVectors.load_word2vec_format(model_path,\n",
    "                                                         binary=True)"
   ]
  },
  {
   "cell_type": "code",
   "execution_count": 6,
   "metadata": {
    "colab": {
     "base_uri": "https://localhost:8080/"
    },
    "id": "umRIh8FW9WvM",
    "outputId": "8fbf3d9c-bab4-4edf-d8b3-a657e6442510"
   },
   "outputs": [
    {
     "name": "stdout",
     "output_type": "stream",
     "text": [
      "['</s>', 'in', 'for', 'that', 'is']\n"
     ]
    }
   ],
   "source": [
    "from random import choice\n",
    "\n",
    "vocab = list(model.vocab.keys()) # list of vocabulary\n",
    "print(vocab[:5])"
   ]
  },
  {
   "cell_type": "code",
   "execution_count": 7,
   "metadata": {
    "colab": {
     "base_uri": "https://localhost:8080/"
    },
    "id": "_NqXRanG-PZA",
    "outputId": "7399a818-1dc1-4a7c-f479-922816649e71"
   },
   "outputs": [
    {
     "data": {
      "text/plain": [
       "3000000"
      ]
     },
     "execution_count": 7,
     "metadata": {},
     "output_type": "execute_result"
    }
   ],
   "source": [
    "len(vocab) # 3 million"
   ]
  },
  {
   "cell_type": "code",
   "execution_count": 8,
   "metadata": {
    "colab": {
     "base_uri": "https://localhost:8080/"
    },
    "id": "UHbfxN41-Rgq",
    "outputId": "df2e3f79-9bf6-4988-edb8-3dd04d9a7a6c"
   },
   "outputs": [
    {
     "name": "stdout",
     "output_type": "stream",
     "text": [
      "Giles_Foden\n",
      "Barnsdale\n",
      "Sandpiper_Golf_Course\n",
      "HMCS_Halifax\n",
      "Lt._Col._Ralph_Kauzlarich\n",
      "LTHS\n",
      "initials_AH\n",
      "Wolley\n",
      "maturing_FHLB_advances\n",
      "Painkiller_Overdose\n"
     ]
    }
   ],
   "source": [
    "for i in range(10):\n",
    "  print(choice(vocab))"
   ]
  },
  {
   "cell_type": "code",
   "execution_count": 9,
   "metadata": {
    "id": "pVWHimPx-axW"
   },
   "outputs": [],
   "source": [
    "def check_vocab(vocab, check_words):\n",
    "  print(\"%40s %s\"%(\"Word\",\"Present\"))\n",
    "  print(\"%40s %s\"%(\"------\",\"------\"))\n",
    "\n",
    "  for word in check_words:\n",
    "    print(\"%40s  %s\"%(word, word in model.vocab))\n",
    "\n",
    "    if not word.lower() == word:\n",
    "      print(\"%40s  %s\"%(word, word.lower() in model.vocab))"
   ]
  },
  {
   "cell_type": "code",
   "execution_count": 10,
   "metadata": {
    "colab": {
     "base_uri": "https://localhost:8080/"
    },
    "id": "9Gmpt6Kn_XCW",
    "outputId": "b3c4d043-9d40-4677-d8db-e2a465433a39"
   },
   "outputs": [
    {
     "name": "stdout",
     "output_type": "stream",
     "text": [
      "                                    Word Present\n",
      "                                  ------ ------\n",
      "                                Narendra  True\n",
      "                                Narendra  False\n",
      "                                   trump  True\n",
      "                                    data  True\n",
      "                                 machine  True\n",
      "                                     nlp  False\n"
     ]
    }
   ],
   "source": [
    "check_vocab(vocab, ['Narendra','trump','data','machine','nlp'])"
   ]
  },
  {
   "cell_type": "code",
   "execution_count": 11,
   "metadata": {
    "colab": {
     "base_uri": "https://localhost:8080/"
    },
    "id": "VW0l0gOa_v2n",
    "outputId": "9e3c4b45-6e06-4b01-b9a2-4e86816463cd"
   },
   "outputs": [
    {
     "name": "stdout",
     "output_type": "stream",
     "text": [
      "                                    Word Present\n",
      "                                  ------ ------\n",
      "                           Narendra_modi  False\n",
      "                           Narendra_modi  False\n",
      "                            donald_trump  True\n",
      "                           united_states  False\n",
      "                          united_kingdom  False\n"
     ]
    }
   ],
   "source": [
    "check_vocab(vocab, ['Narendra_modi','donald_trump','united_states','united_kingdom'])"
   ]
  },
  {
   "cell_type": "code",
   "execution_count": 12,
   "metadata": {
    "colab": {
     "base_uri": "https://localhost:8080/"
    },
    "id": "cG369poq_1EU",
    "outputId": "7c74de7e-40ba-4e65-f5c7-31874e37762e"
   },
   "outputs": [
    {
     "name": "stdout",
     "output_type": "stream",
     "text": [
      "                                    Word Present\n",
      "                                  ------ ------\n",
      "                           Narendra_Modi  True\n",
      "                           Narendra_Modi  False\n",
      "                            Donald_Trump  True\n",
      "                            Donald_Trump  True\n",
      "                           United_States  True\n",
      "                           United_States  False\n",
      "                          United_Kingdom  True\n",
      "                          United_Kingdom  False\n"
     ]
    }
   ],
   "source": [
    "check_vocab(vocab, ['Narendra_Modi','Donald_Trump','United_States','United_Kingdom'])"
   ]
  },
  {
   "cell_type": "code",
   "execution_count": 13,
   "metadata": {
    "colab": {
     "base_uri": "https://localhost:8080/"
    },
    "id": "u0KC52VB_8sA",
    "outputId": "91250185-f2e1-4365-de39-7bb2d55ae982"
   },
   "outputs": [
    {
     "name": "stdout",
     "output_type": "stream",
     "text": [
      "(300,)\n"
     ]
    }
   ],
   "source": [
    "import matplotlib.pyplot as plt\n",
    "import seaborn as sns\n",
    "import numpy as np\n",
    "\n",
    "vector = model.word_vec(\"Narendra_Modi\")\n",
    "print(vector.shape)"
   ]
  },
  {
   "cell_type": "code",
   "execution_count": 14,
   "metadata": {
    "colab": {
     "base_uri": "https://localhost:8080/"
    },
    "id": "dz4PsDQdAaHb",
    "outputId": "f2f63633-ac06-4c56-c8bb-62d9cc1a94b7"
   },
   "outputs": [
    {
     "data": {
      "text/plain": [
       "array([ 2.42187500e-01,  2.28515625e-01,  3.43750000e-01,  5.31250000e-01,\n",
       "       -3.41796875e-01, -3.71093750e-01, -1.72851562e-01,  1.43554688e-01,\n",
       "        1.07421875e-01,  4.95605469e-02,  2.02636719e-02, -1.25976562e-01,\n",
       "       -3.08593750e-01, -9.46044922e-03, -1.79687500e-01,  2.55859375e-01,\n",
       "       -6.54296875e-02, -2.53906250e-01, -4.88281250e-02,  8.59375000e-02,\n",
       "        3.82812500e-01,  1.40625000e-01,  1.35742188e-01, -6.00585938e-02,\n",
       "       -1.85546875e-01,  1.56250000e-01, -9.57031250e-02, -2.89062500e-01,\n",
       "        5.15625000e-01,  3.18908691e-03, -2.50000000e-01, -1.73828125e-01,\n",
       "       -3.30078125e-01,  5.35156250e-01, -2.49023438e-01,  3.47656250e-01,\n",
       "       -2.04101562e-01, -2.04101562e-01,  3.76953125e-01, -5.68847656e-02,\n",
       "        4.25781250e-01, -6.25000000e-02,  3.08593750e-01,  4.49218750e-01,\n",
       "        2.37304688e-01, -4.60937500e-01, -1.67968750e-01,  1.08886719e-01,\n",
       "       -6.65283203e-03,  1.37695312e-01, -6.88476562e-02,  1.31835938e-01,\n",
       "        2.96875000e-01, -3.68652344e-02, -5.12695312e-02, -4.73632812e-02,\n",
       "       -1.41601562e-01, -2.41210938e-01, -4.63867188e-02, -1.97753906e-02,\n",
       "        6.88476562e-02,  3.20312500e-01, -9.08203125e-02, -6.00585938e-02,\n",
       "        8.34960938e-02,  8.78906250e-02, -1.50390625e-01,  1.34765625e-01,\n",
       "        1.42578125e-01, -1.24511719e-02, -3.61328125e-01,  2.85156250e-01,\n",
       "        1.77734375e-01, -2.18200684e-03,  4.22363281e-02, -3.33984375e-01,\n",
       "        9.61914062e-02, -1.33666992e-02,  6.33239746e-04, -9.09423828e-03,\n",
       "       -1.14257812e-01,  1.95312500e-01, -6.93359375e-02, -2.83203125e-01,\n",
       "       -5.12695312e-02,  1.85394287e-03,  2.51953125e-01,  2.88085938e-02,\n",
       "       -5.83496094e-02, -2.61718750e-01, -3.20312500e-01, -3.05175781e-04,\n",
       "       -4.45312500e-01,  4.56542969e-02, -1.30859375e-01, -2.48046875e-01,\n",
       "        1.61132812e-01,  1.49414062e-01,  4.16015625e-01,  1.34765625e-01,\n",
       "       -3.88671875e-01,  2.38281250e-01,  3.88671875e-01, -1.57226562e-01,\n",
       "        3.49426270e-03,  3.61328125e-02, -1.83593750e-01,  3.22265625e-01,\n",
       "       -3.19824219e-02, -2.71484375e-01, -1.70898438e-01, -3.28125000e-01,\n",
       "        3.92578125e-01,  6.68945312e-02,  3.67187500e-01,  1.11816406e-01,\n",
       "       -4.32128906e-02, -1.36718750e-01,  1.54296875e-01,  1.08886719e-01,\n",
       "       -4.00390625e-02,  5.46875000e-02, -5.00000000e-01,  1.75781250e-01,\n",
       "       -1.51367188e-01,  5.15625000e-01,  2.07519531e-02,  1.35742188e-01,\n",
       "       -3.39355469e-02, -1.60156250e-01, -2.25585938e-01,  1.95312500e-01,\n",
       "        8.59375000e-02, -1.70898438e-01, -1.31835938e-01, -2.24609375e-01,\n",
       "        2.58789062e-02,  1.58203125e-01,  2.03125000e-01,  2.91015625e-01,\n",
       "        3.22265625e-01,  5.07812500e-02, -1.05957031e-01, -4.39453125e-01,\n",
       "        8.64257812e-02, -2.98828125e-01,  2.98828125e-01,  5.44433594e-02,\n",
       "        2.29492188e-01,  1.82617188e-01,  5.00000000e-01, -2.61718750e-01,\n",
       "        1.57226562e-01, -1.29882812e-01, -4.25781250e-01, -2.81250000e-01,\n",
       "       -3.02734375e-01,  1.01074219e-01,  2.03125000e-01,  1.28906250e-01,\n",
       "        7.51953125e-02, -5.07812500e-01, -4.60815430e-03, -2.75390625e-01,\n",
       "        2.75390625e-01, -2.89062500e-01, -4.78515625e-02, -2.10937500e-01,\n",
       "        8.05664062e-02,  2.38281250e-01, -2.96875000e-01, -6.95312500e-01,\n",
       "       -5.00000000e-01,  3.29589844e-02, -1.34277344e-02, -5.66406250e-01,\n",
       "       -6.07910156e-02, -3.37890625e-01, -3.33984375e-01, -3.96484375e-01,\n",
       "        4.22363281e-02,  4.57031250e-01, -4.17968750e-01, -4.00390625e-01,\n",
       "        1.99218750e-01,  1.00585938e-01,  1.25000000e-01,  6.73828125e-02,\n",
       "        1.15234375e-01, -2.01416016e-02, -2.53906250e-01,  1.62109375e-01,\n",
       "       -3.47656250e-01, -1.20117188e-01,  3.75000000e-01, -2.85156250e-01,\n",
       "       -5.20019531e-02,  7.22656250e-02,  7.86132812e-02, -2.94921875e-01,\n",
       "       -3.43750000e-01, -1.64062500e-01, -7.61718750e-02, -4.10156250e-01,\n",
       "        1.73828125e-01, -7.08007812e-02,  1.71875000e-01, -3.80859375e-01,\n",
       "        2.01416016e-02, -2.22656250e-01, -3.28125000e-01,  7.69042969e-03,\n",
       "        1.97265625e-01, -4.33593750e-01,  4.19921875e-02,  1.79687500e-01,\n",
       "       -1.64794922e-03,  4.58984375e-01, -2.96875000e-01, -2.98828125e-01,\n",
       "       -1.49414062e-01,  2.30468750e-01, -1.35742188e-01,  2.14843750e-01,\n",
       "       -1.50390625e-01,  1.31835938e-01,  1.58203125e-01,  8.30078125e-02,\n",
       "        5.62500000e-01,  8.15429688e-02, -2.24609375e-01,  6.25000000e-02,\n",
       "        2.41210938e-01, -1.79687500e-01,  1.79687500e-01,  1.31835938e-01,\n",
       "        3.14453125e-01, -1.82617188e-01, -1.03515625e-01,  3.68652344e-02,\n",
       "        5.62500000e-01, -1.08398438e-01,  2.63671875e-01, -1.51367188e-01,\n",
       "       -4.33593750e-01, -3.53515625e-01, -1.61132812e-02,  1.22558594e-01,\n",
       "        4.73632812e-02, -6.59179688e-02, -1.00097656e-01, -1.76757812e-01,\n",
       "        1.22070312e-01,  3.69140625e-01,  4.19921875e-01,  1.99218750e-01,\n",
       "        2.71484375e-01,  1.87500000e-01, -4.10156250e-02, -3.67187500e-01,\n",
       "       -4.95605469e-02,  4.08203125e-01,  3.14941406e-02, -1.20117188e-01,\n",
       "        4.37011719e-02,  9.08203125e-02,  4.66308594e-02,  2.92968750e-03,\n",
       "        6.29882812e-02, -2.59765625e-01, -2.96875000e-01,  3.58886719e-02,\n",
       "        6.34765625e-02, -3.41796875e-02,  1.88476562e-01, -1.72851562e-01,\n",
       "        1.91406250e-01,  4.15039062e-02,  2.18750000e-01,  1.81884766e-02,\n",
       "        1.09863281e-01, -2.94189453e-02, -5.71289062e-02,  1.98242188e-01,\n",
       "       -1.80664062e-01,  1.97753906e-02, -1.61132812e-01, -3.68652344e-02,\n",
       "       -3.46679688e-02, -1.15722656e-01, -7.08007812e-02,  7.81250000e-02,\n",
       "       -2.12890625e-01,  5.71289062e-02,  3.14941406e-02,  1.95312500e-01,\n",
       "        2.53906250e-01, -1.71875000e-01, -2.64892578e-02,  2.06054688e-01],\n",
       "      dtype=float32)"
      ]
     },
     "execution_count": 14,
     "metadata": {},
     "output_type": "execute_result"
    }
   ],
   "source": [
    "vector"
   ]
  },
  {
   "cell_type": "code",
   "execution_count": 15,
   "metadata": {
    "colab": {
     "base_uri": "https://localhost:8080/"
    },
    "id": "ZXGhoYZ0AdRR",
    "outputId": "7c6f6ca8-68f3-4df7-e9ff-59a49f30689c"
   },
   "outputs": [
    {
     "name": "stdout",
     "output_type": "stream",
     "text": [
      "Magnitude of a vector is 4.041469573974609\n"
     ]
    }
   ],
   "source": [
    "print(f\"Magnitude of a vector is {np.linalg.norm(vector)}\")"
   ]
  },
  {
   "cell_type": "code",
   "execution_count": 16,
   "metadata": {
    "colab": {
     "base_uri": "https://localhost:8080/",
     "height": 375
    },
    "id": "7N1VTU4_AnU1",
    "outputId": "de395f3d-591d-46a2-d237-112b7567d74c"
   },
   "outputs": [
    {
     "name": "stderr",
     "output_type": "stream",
     "text": [
      "/usr/local/lib/python3.8/dist-packages/seaborn/distributions.py:2619: FutureWarning: `distplot` is a deprecated function and will be removed in a future version. Please adapt your code to use either `displot` (a figure-level function with similar flexibility) or `histplot` (an axes-level function for histograms).\n",
      "  warnings.warn(msg, FutureWarning)\n",
      "/usr/local/lib/python3.8/dist-packages/seaborn/distributions.py:2103: FutureWarning: The `axis` variable is no longer used and will be removed. Instead, assign variables directly to `x` or `y`.\n",
      "  warnings.warn(msg, FutureWarning)\n"
     ]
    },
    {
     "data": {
      "image/png": "[encoded data removed]",
      "text/plain": [
       "<Figure size 432x288 with 1 Axes>"
      ]
     },
     "metadata": {
      "needs_background": "light"
     },
     "output_type": "display_data"
    }
   ],
   "source": [
    "sns.distplot(vector, kde=False, rug=True)\n",
    "plt.title(\"Histogram of feature vector\")\n",
    "plt.show()"
   ]
  },
  {
   "cell_type": "markdown",
   "metadata": {
    "id": "_Oxs34XCBnSJ"
   },
   "source": [
    "# Simialarity between the words"
   ]
  },
  {
   "cell_type": "code",
   "execution_count": 17,
   "metadata": {
    "colab": {
     "base_uri": "https://localhost:8080/"
    },
    "id": "IcJd_MgUAwWP",
    "outputId": "b74497c2-3763-4bc0-f254-38504d0fc819"
   },
   "outputs": [
    {
     "name": "stdout",
     "output_type": "stream",
     "text": [
      "cosine similarity between bread & jam is 0.22019492089748383\n"
     ]
    }
   ],
   "source": [
    "word1 = 'bread'\n",
    "word2 = 'jam'\n",
    "score = model.similarity(word1,word2)\n",
    "print(f\"cosine similarity between {word1} & {word2} is {score}\")"
   ]
  },
  {
   "cell_type": "code",
   "execution_count": 18,
   "metadata": {
    "colab": {
     "base_uri": "https://localhost:8080/"
    },
    "id": "h8RWjAB7BTdL",
    "outputId": "c0e8c655-95fb-4a20-fa78-f1cd93e01c0b"
   },
   "outputs": [
    {
     "name": "stdout",
     "output_type": "stream",
     "text": [
      "cosine similarity between bread & butter is 0.641726016998291\n"
     ]
    }
   ],
   "source": [
    "word1 = 'bread'\n",
    "word2 = 'butter'\n",
    "score = model.similarity(word1,word2)\n",
    "print(f\"cosine similarity between {word1} & {word2} is {score}\")"
   ]
  },
  {
   "cell_type": "code",
   "execution_count": 19,
   "metadata": {
    "colab": {
     "base_uri": "https://localhost:8080/"
    },
    "id": "vDZdcs2jBWeE",
    "outputId": "9cdbe766-8799-41c0-f694-4ae5c3c37442"
   },
   "outputs": [
    {
     "name": "stdout",
     "output_type": "stream",
     "text": [
      "cosine similarity between cycle & bicycle is 0.16222114861011505\n"
     ]
    }
   ],
   "source": [
    "word1 = 'cycle'\n",
    "word2 = 'bicycle'\n",
    "score = model.similarity(word1,word2)\n",
    "print(f\"cosine similarity between {word1} & {word2} is {score}\")"
   ]
  },
  {
   "cell_type": "code",
   "execution_count": 20,
   "metadata": {
    "colab": {
     "base_uri": "https://localhost:8080/"
    },
    "id": "qHsbOy6CBcU2",
    "outputId": "828a57a8-a8b1-40fe-9702-fff08b1752f9"
   },
   "outputs": [
    {
     "name": "stdout",
     "output_type": "stream",
     "text": [
      "cosine similarity between couch & sofa is 0.8309178948402405\n"
     ]
    }
   ],
   "source": [
    "word1 = 'couch'\n",
    "word2 = 'sofa'\n",
    "score = model.similarity(word1,word2)\n",
    "print(f\"cosine similarity between {word1} & {word2} is {score}\")"
   ]
  },
  {
   "cell_type": "code",
   "execution_count": 21,
   "metadata": {
    "id": "6PfxCnTHBfsQ"
   },
   "outputs": [],
   "source": [
    "# max = 1, min = -1"
   ]
  },
  {
   "cell_type": "markdown",
   "metadata": {
    "id": "p8gRAHdTBqrW"
   },
   "source": [
    "# Most Similar words"
   ]
  },
  {
   "cell_type": "code",
   "execution_count": null,
   "metadata": {
    "id": "vrrU8qfoBrm7"
   },
   "outputs": [],
   "source": [
    "word = \"sofa\"\n",
    "results = model.most_similar(positive=word, topn=10)\n",
    "print(results)"
   ]
  },
  {
   "cell_type": "markdown",
   "metadata": {
    "id": "rVljFduTEGt4"
   },
   "source": [
    "# How to calculate the similarity score between two words"
   ]
  },
  {
   "cell_type": "code",
   "execution_count": null,
   "metadata": {
    "id": "uSa9kb0hDaO6"
   },
   "outputs": [],
   "source": [
    "# cos(x,y) = x.y/mag(x)*(mag(y))"
   ]
  },
  {
   "cell_type": "code",
   "execution_count": 25,
   "metadata": {
    "colab": {
     "base_uri": "https://localhost:8080/"
    },
    "id": "zWnBZBxsEcJ1",
    "outputId": "ee84af1e-7bce-4d3a-a9da-505799c1c0cd"
   },
   "outputs": [
    {
     "name": "stdout",
     "output_type": "stream",
     "text": [
      "shape of matrix is (3000000, 300)\n"
     ]
    }
   ],
   "source": [
    "matrix = model.vectors\n",
    "print(\"shape of matrix is\",matrix.shape)"
   ]
  },
  {
   "cell_type": "code",
   "execution_count": 26,
   "metadata": {
    "colab": {
     "base_uri": "https://localhost:8080/"
    },
    "id": "_5I9caWNEf68",
    "outputId": "a7a19acd-a0da-4673-c9ad-c679a09fc0be"
   },
   "outputs": [
    {
     "name": "stdout",
     "output_type": "stream",
     "text": [
      "Norm of bread is 2.960254192352295\n",
      "Norm of butter is 3.1190855503082275\n"
     ]
    }
   ],
   "source": [
    "w1 = model.vocab['bread'].index\n",
    "w2 = model.vocab['butter'].index\n",
    "\n",
    "v1 = matrix[w1,:]\n",
    "v2 = matrix[w2,:]\n",
    "\n",
    "print(f\"Norm of bread is {np.linalg.norm(v1)}\")\n",
    "print(f\"Norm of butter is {np.linalg.norm(v2)}\")"
   ]
  },
  {
   "cell_type": "code",
   "execution_count": 27,
   "metadata": {
    "colab": {
     "base_uri": "https://localhost:8080/"
    },
    "id": "TE1k7iEgE9H3",
    "outputId": "c6a245d0-1d35-4dc2-9e19-8b5e02d51e4f"
   },
   "outputs": [
    {
     "name": "stdout",
     "output_type": "stream",
     "text": [
      "cosine similarity is 0.6417260766029358\n"
     ]
    }
   ],
   "source": [
    "cos_sim = (np.dot(v1,v2))/(np.linalg.norm(v1)*np.linalg.norm(v2))\n",
    "print(f'cosine similarity is {cos_sim}')"
   ]
  }
 ],
 "metadata": {
  "accelerator": "GPU",
  "colab": {
   "provenance": []
  },
  "gpuClass": "standard",
  "kernelspec": {
   "display_name": "Python 3 (ipykernel)",
   "language": "python",
   "name": "python3"
  },
  "language_info": {
   "codemirror_mode": {
    "name": "ipython",
    "version": 3
   },
   "file_extension": ".py",
   "mimetype": "text/x-python",
   "name": "python",
   "nbconvert_exporter": "python",
   "pygments_lexer": "ipython3",
   "version": "3.11.7"
  }
 },
 "nbformat": 4,
 "nbformat_minor": 4
}
