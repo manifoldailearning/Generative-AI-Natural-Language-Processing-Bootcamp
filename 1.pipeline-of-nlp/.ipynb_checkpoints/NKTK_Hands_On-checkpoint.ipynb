{
  "nbformat": 4,
  "nbformat_minor": 0,
  "metadata": {
    "colab": {
      "provenance": []
    },
    "kernelspec": {
      "name": "python3",
      "display_name": "Python 3"
    },
    "language_info": {
      "name": "python"
    }
  },
  "cells": [
    {
      "cell_type": "code",
      "execution_count": null,
      "metadata": {
        "id": "Fa-uJqvQxuS9"
      },
      "outputs": [],
      "source": [
        "import nltk"
      ]
    },
    {
      "cell_type": "code",
      "source": [
        "nltk.download('punkt')"
      ],
      "metadata": {
        "colab": {
          "base_uri": "https://localhost:8080/"
        },
        "id": "ZdL_f3sZyOuL",
        "outputId": "0d0d03b9-db56-43de-b08d-2c0d5257987c"
      },
      "execution_count": null,
      "outputs": [
        {
          "output_type": "stream",
          "name": "stderr",
          "text": [
            "[nltk_data] Downloading package punkt to /root/nltk_data...\n",
            "[nltk_data]   Unzipping tokenizers/punkt.zip.\n"
          ]
        },
        {
          "output_type": "execute_result",
          "data": {
            "text/plain": [
              "True"
            ]
          },
          "metadata": {},
          "execution_count": 2
        }
      ]
    },
    {
      "cell_type": "code",
      "source": [
        "text = \"Machine Learning is a Subset of Artificial intelligence, and it does with learning from data without being explicitly programmed\""
      ],
      "metadata": {
        "id": "d3KzzOhayUws"
      },
      "execution_count": null,
      "outputs": []
    },
    {
      "cell_type": "code",
      "source": [
        "ml_tokens = nltk.word_tokenize(text)\n",
        "ml_tokens"
      ],
      "metadata": {
        "colab": {
          "base_uri": "https://localhost:8080/"
        },
        "id": "IMDTFRypykfD",
        "outputId": "b8db3ac6-0cb3-4cea-a4f8-36369a447e45"
      },
      "execution_count": null,
      "outputs": [
        {
          "output_type": "execute_result",
          "data": {
            "text/plain": [
              "['Machine',\n",
              " 'Learning',\n",
              " 'is',\n",
              " 'a',\n",
              " 'Subset',\n",
              " 'of',\n",
              " 'Artificial',\n",
              " 'intelligence',\n",
              " ',',\n",
              " 'and',\n",
              " 'it',\n",
              " 'does',\n",
              " 'with',\n",
              " 'learning',\n",
              " 'from',\n",
              " 'data',\n",
              " 'without',\n",
              " 'being',\n",
              " 'explicitly',\n",
              " 'programmed']"
            ]
          },
          "metadata": {},
          "execution_count": 4
        }
      ]
    },
    {
      "cell_type": "code",
      "source": [
        "#bigrams, trigrams\n",
        "list(nltk.bigrams(ml_tokens))"
      ],
      "metadata": {
        "colab": {
          "base_uri": "https://localhost:8080/"
        },
        "id": "CE6gGjUoyoI3",
        "outputId": "1e7cff80-b037-4930-8270-15eb8171a395"
      },
      "execution_count": null,
      "outputs": [
        {
          "output_type": "execute_result",
          "data": {
            "text/plain": [
              "[('Machine', 'Learning'),\n",
              " ('Learning', 'is'),\n",
              " ('is', 'a'),\n",
              " ('a', 'Subset'),\n",
              " ('Subset', 'of'),\n",
              " ('of', 'Artificial'),\n",
              " ('Artificial', 'intelligence'),\n",
              " ('intelligence', ','),\n",
              " (',', 'and'),\n",
              " ('and', 'it'),\n",
              " ('it', 'does'),\n",
              " ('does', 'with'),\n",
              " ('with', 'learning'),\n",
              " ('learning', 'from'),\n",
              " ('from', 'data'),\n",
              " ('data', 'without'),\n",
              " ('without', 'being'),\n",
              " ('being', 'explicitly'),\n",
              " ('explicitly', 'programmed')]"
            ]
          },
          "metadata": {},
          "execution_count": 5
        }
      ]
    },
    {
      "cell_type": "code",
      "source": [
        "#bigrams, trigrams\n",
        "list(nltk.trigrams(ml_tokens))"
      ],
      "metadata": {
        "colab": {
          "base_uri": "https://localhost:8080/"
        },
        "id": "2tMs6uB1y29w",
        "outputId": "80ac0a4c-5cc3-4b35-fe3a-5d261b99db29"
      },
      "execution_count": null,
      "outputs": [
        {
          "output_type": "execute_result",
          "data": {
            "text/plain": [
              "[('Machine', 'Learning', 'is'),\n",
              " ('Learning', 'is', 'a'),\n",
              " ('is', 'a', 'Subset'),\n",
              " ('a', 'Subset', 'of'),\n",
              " ('Subset', 'of', 'Artificial'),\n",
              " ('of', 'Artificial', 'intelligence'),\n",
              " ('Artificial', 'intelligence', ','),\n",
              " ('intelligence', ',', 'and'),\n",
              " (',', 'and', 'it'),\n",
              " ('and', 'it', 'does'),\n",
              " ('it', 'does', 'with'),\n",
              " ('does', 'with', 'learning'),\n",
              " ('with', 'learning', 'from'),\n",
              " ('learning', 'from', 'data'),\n",
              " ('from', 'data', 'without'),\n",
              " ('data', 'without', 'being'),\n",
              " ('without', 'being', 'explicitly'),\n",
              " ('being', 'explicitly', 'programmed')]"
            ]
          },
          "metadata": {},
          "execution_count": 6
        }
      ]
    },
    {
      "cell_type": "code",
      "source": [
        "nltk.download(\"averaged_perceptron_tagger\")"
      ],
      "metadata": {
        "colab": {
          "base_uri": "https://localhost:8080/"
        },
        "id": "PEX-y50ky_Ed",
        "outputId": "e4c1f345-c981-4570-94ae-9d722e1b3b7b"
      },
      "execution_count": null,
      "outputs": [
        {
          "output_type": "stream",
          "name": "stderr",
          "text": [
            "[nltk_data] Downloading package averaged_perceptron_tagger to\n",
            "[nltk_data]     /root/nltk_data...\n",
            "[nltk_data]   Unzipping taggers/averaged_perceptron_tagger.zip.\n"
          ]
        },
        {
          "output_type": "execute_result",
          "data": {
            "text/plain": [
              "True"
            ]
          },
          "metadata": {},
          "execution_count": 7
        }
      ]
    },
    {
      "cell_type": "code",
      "source": [
        "for token in ml_tokens:\n",
        "  print(nltk.pos_tag([token]))"
      ],
      "metadata": {
        "colab": {
          "base_uri": "https://localhost:8080/"
        },
        "id": "SNaQUCiA0xZu",
        "outputId": "752c39f3-ac5a-4c80-c8d7-a49819bb4d59"
      },
      "execution_count": null,
      "outputs": [
        {
          "output_type": "stream",
          "name": "stdout",
          "text": [
            "[('Machine', 'NN')]\n",
            "[('Learning', 'VBG')]\n",
            "[('is', 'VBZ')]\n",
            "[('a', 'DT')]\n",
            "[('Subset', 'NN')]\n",
            "[('of', 'IN')]\n",
            "[('Artificial', 'JJ')]\n",
            "[('intelligence', 'NN')]\n",
            "[(',', ',')]\n",
            "[('and', 'CC')]\n",
            "[('it', 'PRP')]\n",
            "[('does', 'VBZ')]\n",
            "[('with', 'IN')]\n",
            "[('learning', 'VBG')]\n",
            "[('from', 'IN')]\n",
            "[('data', 'NNS')]\n",
            "[('without', 'IN')]\n",
            "[('being', 'VBG')]\n",
            "[('explicitly', 'RB')]\n",
            "[('programmed', 'NN')]\n"
          ]
        }
      ]
    },
    {
      "cell_type": "code",
      "source": [
        "sent = \"Jerry eats a banana\"\n",
        "tokens = nltk.word_tokenize(sent)\n",
        "for token in tokens:\n",
        "  print(nltk.pos_tag([token]))"
      ],
      "metadata": {
        "colab": {
          "base_uri": "https://localhost:8080/"
        },
        "id": "e99mwcJr050C",
        "outputId": "b46f571d-2444-476a-bbb2-bca9b9c7b600"
      },
      "execution_count": null,
      "outputs": [
        {
          "output_type": "stream",
          "name": "stdout",
          "text": [
            "[('Jerry', 'NN')]\n",
            "[('eats', 'NNS')]\n",
            "[('a', 'DT')]\n",
            "[('banana', 'NN')]\n"
          ]
        }
      ]
    },
    {
      "cell_type": "code",
      "source": [
        "from nltk.tokenize import RegexpTokenizer\n",
        "reg_tokenizer = RegexpTokenizer('(?u)\\W+|\\$[\\d\\.]+|\\S+') \n",
        "tokens = reg_tokenizer.tokenize(sent)\n",
        "for token in tokens:\n",
        "  print(nltk.pos_tag([token]))"
      ],
      "metadata": {
        "colab": {
          "base_uri": "https://localhost:8080/"
        },
        "id": "3Q5Q5och1Xq4",
        "outputId": "ae31c16d-40db-498e-c8b0-7744747434f0"
      },
      "execution_count": null,
      "outputs": [
        {
          "output_type": "stream",
          "name": "stdout",
          "text": [
            "[('Jerry', 'NN')]\n",
            "[(' ', 'NN')]\n",
            "[('eats', 'NNS')]\n",
            "[(' ', 'NN')]\n",
            "[('a', 'DT')]\n",
            "[(' ', 'NN')]\n",
            "[('banana', 'NN')]\n"
          ]
        }
      ]
    },
    {
      "cell_type": "code",
      "source": [
        "nltk.download('stopwords')\n",
        "from nltk.corpus import stopwords\n",
        "stop_words = stopwords.words('english')\n",
        "stop_words"
      ],
      "metadata": {
        "colab": {
          "base_uri": "https://localhost:8080/"
        },
        "id": "1sddvl832B5L",
        "outputId": "2905de98-089a-4138-9028-3a2e326af3af"
      },
      "execution_count": null,
      "outputs": [
        {
          "output_type": "stream",
          "name": "stderr",
          "text": [
            "[nltk_data] Downloading package stopwords to /root/nltk_data...\n",
            "[nltk_data]   Unzipping corpora/stopwords.zip.\n"
          ]
        },
        {
          "output_type": "execute_result",
          "data": {
            "text/plain": [
              "['i',\n",
              " 'me',\n",
              " 'my',\n",
              " 'myself',\n",
              " 'we',\n",
              " 'our',\n",
              " 'ours',\n",
              " 'ourselves',\n",
              " 'you',\n",
              " \"you're\",\n",
              " \"you've\",\n",
              " \"you'll\",\n",
              " \"you'd\",\n",
              " 'your',\n",
              " 'yours',\n",
              " 'yourself',\n",
              " 'yourselves',\n",
              " 'he',\n",
              " 'him',\n",
              " 'his',\n",
              " 'himself',\n",
              " 'she',\n",
              " \"she's\",\n",
              " 'her',\n",
              " 'hers',\n",
              " 'herself',\n",
              " 'it',\n",
              " \"it's\",\n",
              " 'its',\n",
              " 'itself',\n",
              " 'they',\n",
              " 'them',\n",
              " 'their',\n",
              " 'theirs',\n",
              " 'themselves',\n",
              " 'what',\n",
              " 'which',\n",
              " 'who',\n",
              " 'whom',\n",
              " 'this',\n",
              " 'that',\n",
              " \"that'll\",\n",
              " 'these',\n",
              " 'those',\n",
              " 'am',\n",
              " 'is',\n",
              " 'are',\n",
              " 'was',\n",
              " 'were',\n",
              " 'be',\n",
              " 'been',\n",
              " 'being',\n",
              " 'have',\n",
              " 'has',\n",
              " 'had',\n",
              " 'having',\n",
              " 'do',\n",
              " 'does',\n",
              " 'did',\n",
              " 'doing',\n",
              " 'a',\n",
              " 'an',\n",
              " 'the',\n",
              " 'and',\n",
              " 'but',\n",
              " 'if',\n",
              " 'or',\n",
              " 'because',\n",
              " 'as',\n",
              " 'until',\n",
              " 'while',\n",
              " 'of',\n",
              " 'at',\n",
              " 'by',\n",
              " 'for',\n",
              " 'with',\n",
              " 'about',\n",
              " 'against',\n",
              " 'between',\n",
              " 'into',\n",
              " 'through',\n",
              " 'during',\n",
              " 'before',\n",
              " 'after',\n",
              " 'above',\n",
              " 'below',\n",
              " 'to',\n",
              " 'from',\n",
              " 'up',\n",
              " 'down',\n",
              " 'in',\n",
              " 'out',\n",
              " 'on',\n",
              " 'off',\n",
              " 'over',\n",
              " 'under',\n",
              " 'again',\n",
              " 'further',\n",
              " 'then',\n",
              " 'once',\n",
              " 'here',\n",
              " 'there',\n",
              " 'when',\n",
              " 'where',\n",
              " 'why',\n",
              " 'how',\n",
              " 'all',\n",
              " 'any',\n",
              " 'both',\n",
              " 'each',\n",
              " 'few',\n",
              " 'more',\n",
              " 'most',\n",
              " 'other',\n",
              " 'some',\n",
              " 'such',\n",
              " 'no',\n",
              " 'nor',\n",
              " 'not',\n",
              " 'only',\n",
              " 'own',\n",
              " 'same',\n",
              " 'so',\n",
              " 'than',\n",
              " 'too',\n",
              " 'very',\n",
              " 's',\n",
              " 't',\n",
              " 'can',\n",
              " 'will',\n",
              " 'just',\n",
              " 'don',\n",
              " \"don't\",\n",
              " 'should',\n",
              " \"should've\",\n",
              " 'now',\n",
              " 'd',\n",
              " 'll',\n",
              " 'm',\n",
              " 'o',\n",
              " 're',\n",
              " 've',\n",
              " 'y',\n",
              " 'ain',\n",
              " 'aren',\n",
              " \"aren't\",\n",
              " 'couldn',\n",
              " \"couldn't\",\n",
              " 'didn',\n",
              " \"didn't\",\n",
              " 'doesn',\n",
              " \"doesn't\",\n",
              " 'hadn',\n",
              " \"hadn't\",\n",
              " 'hasn',\n",
              " \"hasn't\",\n",
              " 'haven',\n",
              " \"haven't\",\n",
              " 'isn',\n",
              " \"isn't\",\n",
              " 'ma',\n",
              " 'mightn',\n",
              " \"mightn't\",\n",
              " 'mustn',\n",
              " \"mustn't\",\n",
              " 'needn',\n",
              " \"needn't\",\n",
              " 'shan',\n",
              " \"shan't\",\n",
              " 'shouldn',\n",
              " \"shouldn't\",\n",
              " 'wasn',\n",
              " \"wasn't\",\n",
              " 'weren',\n",
              " \"weren't\",\n",
              " 'won',\n",
              " \"won't\",\n",
              " 'wouldn',\n",
              " \"wouldn't\"]"
            ]
          },
          "metadata": {},
          "execution_count": 11
        }
      ]
    },
    {
      "cell_type": "code",
      "source": [
        "filtered_data = [w for w in ml_tokens if not w in stop_words]\n",
        "filtered_data"
      ],
      "metadata": {
        "colab": {
          "base_uri": "https://localhost:8080/"
        },
        "id": "uzEQqAWS2eB3",
        "outputId": "1edd1cf9-5174-49f1-acee-bbaf5fbdc1f6"
      },
      "execution_count": null,
      "outputs": [
        {
          "output_type": "execute_result",
          "data": {
            "text/plain": [
              "['Machine',\n",
              " 'Learning',\n",
              " 'Subset',\n",
              " 'Artificial',\n",
              " 'intelligence',\n",
              " ',',\n",
              " 'learning',\n",
              " 'data',\n",
              " 'without',\n",
              " 'explicitly',\n",
              " 'programmed']"
            ]
          },
          "metadata": {},
          "execution_count": 12
        }
      ]
    },
    {
      "cell_type": "code",
      "source": [
        "ml_tokens"
      ],
      "metadata": {
        "colab": {
          "base_uri": "https://localhost:8080/"
        },
        "id": "sCV5KZTH2r66",
        "outputId": "8d65b0bd-5fb3-4174-95d3-776f67df1a58"
      },
      "execution_count": null,
      "outputs": [
        {
          "output_type": "execute_result",
          "data": {
            "text/plain": [
              "['Machine',\n",
              " 'Learning',\n",
              " 'is',\n",
              " 'a',\n",
              " 'Subset',\n",
              " 'of',\n",
              " 'Artificial',\n",
              " 'intelligence',\n",
              " ',',\n",
              " 'and',\n",
              " 'it',\n",
              " 'does',\n",
              " 'with',\n",
              " 'learning',\n",
              " 'from',\n",
              " 'data',\n",
              " 'without',\n",
              " 'being',\n",
              " 'explicitly',\n",
              " 'programmed']"
            ]
          },
          "metadata": {},
          "execution_count": 13
        }
      ]
    },
    {
      "cell_type": "markdown",
      "source": [
        "# Stemming"
      ],
      "metadata": {
        "id": "_nPnRSbpDLUU"
      }
    },
    {
      "cell_type": "code",
      "source": [
        "from nltk.stem import PorterStemmer"
      ],
      "metadata": {
        "id": "ESen_77u2wQU"
      },
      "execution_count": null,
      "outputs": []
    },
    {
      "cell_type": "code",
      "source": [
        "porter = PorterStemmer()\n",
        "words = ['generous', 'generate','genorously', 'generation']\n",
        "for word in words:\n",
        "  print(f\"{word} --> {porter.stem(word)}\")"
      ],
      "metadata": {
        "colab": {
          "base_uri": "https://localhost:8080/"
        },
        "id": "iievWIzQDOfg",
        "outputId": "7ece88e8-3009-45b7-eefc-d537548b6c4c"
      },
      "execution_count": null,
      "outputs": [
        {
          "output_type": "stream",
          "name": "stdout",
          "text": [
            "generous --> gener\n",
            "generate --> gener\n",
            "genorously --> genor\n",
            "generation --> gener\n"
          ]
        }
      ]
    },
    {
      "cell_type": "code",
      "source": [
        "from nltk.stem import SnowballStemmer\n",
        "snowball = SnowballStemmer(language='english')\n",
        "words = ['generous', 'generate','genorously', 'generation']\n",
        "for word in words:\n",
        "  print(f\"{word} --> {snowball.stem(word)}\")"
      ],
      "metadata": {
        "colab": {
          "base_uri": "https://localhost:8080/"
        },
        "id": "SUQ-ISkcDnbl",
        "outputId": "0efb2df9-0abe-49c0-d42d-e1389893dbc4"
      },
      "execution_count": null,
      "outputs": [
        {
          "output_type": "stream",
          "name": "stdout",
          "text": [
            "generous --> generous\n",
            "generate --> generat\n",
            "genorously --> genor\n",
            "generation --> generat\n"
          ]
        }
      ]
    },
    {
      "cell_type": "code",
      "source": [
        "from nltk.stem import LancasterStemmer\n",
        "lan = LancasterStemmer()\n",
        "words = ['generous', 'generate','genorously', 'generation']\n",
        "for word in words:\n",
        "  print(f\"{word} --> {lan.stem(word)}\")"
      ],
      "metadata": {
        "colab": {
          "base_uri": "https://localhost:8080/"
        },
        "id": "7tJ3ajPED0CP",
        "outputId": "66d5a702-0614-453f-bd7e-0c3be55d9dcb"
      },
      "execution_count": null,
      "outputs": [
        {
          "output_type": "stream",
          "name": "stdout",
          "text": [
            "generous --> gen\n",
            "generate --> gen\n",
            "genorously --> gen\n",
            "generation --> gen\n"
          ]
        }
      ]
    },
    {
      "cell_type": "code",
      "source": [
        "from nltk.stem import RegexpStemmer\n",
        "reg = RegexpStemmer('ing|s$|ables$',min=4)\n",
        "words = ['generous', 'generate','genorously', 'generation']\n",
        "for word in words:\n",
        "  print(f\"{word} --> {reg.stem(word)}\")"
      ],
      "metadata": {
        "colab": {
          "base_uri": "https://localhost:8080/"
        },
        "id": "cbNf-1W4D-8K",
        "outputId": "ac90257a-28f4-4528-9517-77758dcb97ad"
      },
      "execution_count": null,
      "outputs": [
        {
          "output_type": "stream",
          "name": "stdout",
          "text": [
            "generous --> generou\n",
            "generate --> generate\n",
            "genorously --> genorously\n",
            "generation --> generation\n"
          ]
        }
      ]
    },
    {
      "cell_type": "markdown",
      "source": [
        "# Lemmatization"
      ],
      "metadata": {
        "id": "LyGmPL0FEfHy"
      }
    },
    {
      "cell_type": "code",
      "source": [
        "from nltk.stem import WordNetLemmatizer\n",
        "nltk.download('wordnet')\n",
        "nltk.download('omw-1.4')"
      ],
      "metadata": {
        "colab": {
          "base_uri": "https://localhost:8080/"
        },
        "id": "E-SjOibgEUXg",
        "outputId": "271aaa1f-ed1a-40b9-94cf-5ba7b7ad7ede"
      },
      "execution_count": null,
      "outputs": [
        {
          "output_type": "stream",
          "name": "stderr",
          "text": [
            "[nltk_data] Downloading package wordnet to /root/nltk_data...\n",
            "[nltk_data]   Package wordnet is already up-to-date!\n",
            "[nltk_data] Downloading package omw-1.4 to /root/nltk_data...\n"
          ]
        },
        {
          "output_type": "execute_result",
          "data": {
            "text/plain": [
              "True"
            ]
          },
          "metadata": {},
          "execution_count": 25
        }
      ]
    },
    {
      "cell_type": "code",
      "source": [
        "lemma = WordNetLemmatizer()\n",
        "for word in words:\n",
        "  print(f\"{word} --> {lemma.lemmatize(word)}\")"
      ],
      "metadata": {
        "colab": {
          "base_uri": "https://localhost:8080/"
        },
        "id": "jRQmB5Y5El8H",
        "outputId": "c1b9858d-ee3b-4257-a639-35fab6d00008"
      },
      "execution_count": null,
      "outputs": [
        {
          "output_type": "stream",
          "name": "stdout",
          "text": [
            "generous --> generous\n",
            "generate --> generate\n",
            "genorously --> genorously\n",
            "generation --> generation\n"
          ]
        }
      ]
    },
    {
      "cell_type": "markdown",
      "source": [
        "# Word Sense Disambiguation"
      ],
      "metadata": {
        "id": "KWFVf3IMLEnY"
      }
    },
    {
      "cell_type": "code",
      "source": [
        "from nltk.wsd import lesk\n",
        "from nltk.tokenize import word_tokenize"
      ],
      "metadata": {
        "id": "I4KJ3QQCEsgb"
      },
      "execution_count": null,
      "outputs": []
    },
    {
      "cell_type": "code",
      "source": [
        "a1= lesk(word_tokenize('The building has a device to jam the signal'),'jam')\n",
        "print(a1,a1.definition())\n",
        "a2 = lesk(word_tokenize('I am stuck in a traffic jam'),'jam')\n",
        "print(a2,a2.definition())"
      ],
      "metadata": {
        "colab": {
          "base_uri": "https://localhost:8080/"
        },
        "id": "DoKx51r6LH4M",
        "outputId": "aef36a6a-771f-4908-b13b-e27ba3ba5925"
      },
      "execution_count": null,
      "outputs": [
        {
          "output_type": "stream",
          "name": "stdout",
          "text": [
            "Synset('jamming.n.01') deliberate radiation or reflection of electromagnetic energy for the purpose of disrupting enemy use of electronic devices or systems\n",
            "Synset('jam.v.05') get stuck and immobilized\n"
          ]
        }
      ]
    },
    {
      "cell_type": "code",
      "source": [
        "a1= lesk(word_tokenize('what is the current time ?'),'current')\n",
        "print(a1,a1.definition())\n",
        "a2 = lesk(word_tokenize('air current'),'current')\n",
        "print(a2,a2.definition())"
      ],
      "metadata": {
        "colab": {
          "base_uri": "https://localhost:8080/"
        },
        "id": "RLT6lHNxLT6g",
        "outputId": "fd684746-d1e0-482b-c3d7-97508cf6e971"
      },
      "execution_count": null,
      "outputs": [
        {
          "output_type": "stream",
          "name": "stdout",
          "text": [
            "Synset('current.a.01') occurring in or belonging to the present time\n",
            "Synset('stream.n.02') dominant course (suggestive of running water) of successive events or ideas\n"
          ]
        }
      ]
    },
    {
      "cell_type": "markdown",
      "source": [
        "# Named Entity Recognition"
      ],
      "metadata": {
        "id": "cf8lf_sdLwhK"
      }
    },
    {
      "cell_type": "code",
      "source": [
        "nltk.download('maxent_ne_chunker')\n",
        "nltk.download('words')"
      ],
      "metadata": {
        "colab": {
          "base_uri": "https://localhost:8080/"
        },
        "id": "WWI885GcLsHj",
        "outputId": "15a42f03-0543-4c39-80ea-a32f0f658f3b"
      },
      "execution_count": null,
      "outputs": [
        {
          "output_type": "stream",
          "name": "stderr",
          "text": [
            "[nltk_data] Downloading package maxent_ne_chunker to\n",
            "[nltk_data]     /root/nltk_data...\n",
            "[nltk_data]   Package maxent_ne_chunker is already up-to-date!\n",
            "[nltk_data] Downloading package words to /root/nltk_data...\n",
            "[nltk_data]   Package words is already up-to-date!\n"
          ]
        },
        {
          "output_type": "execute_result",
          "data": {
            "text/plain": [
              "True"
            ]
          },
          "metadata": {},
          "execution_count": 39
        }
      ]
    },
    {
      "cell_type": "code",
      "source": [
        "text = \"Apple is an American company based out of California\"\n",
        "for w in nltk.word_tokenize(text):\n",
        "  for chunk in nltk.ne_chunk(nltk.pos_tag(nltk.word_tokenize(w))):\n",
        "     if hasattr(chunk, 'label'):\n",
        "        print(chunk.label(), ' '.join(c[0] for c in chunk))"
      ],
      "metadata": {
        "colab": {
          "base_uri": "https://localhost:8080/"
        },
        "id": "AM1agdPPMBcQ",
        "outputId": "0d820135-7da1-44c0-94d3-c6d48f28a8da"
      },
      "execution_count": null,
      "outputs": [
        {
          "output_type": "stream",
          "name": "stdout",
          "text": [
            "GPE Apple\n",
            "GPE American\n",
            "GPE California\n"
          ]
        }
      ]
    },
    {
      "cell_type": "code",
      "source": [
        "text = \"Narendra Modi is the Prime Minister of India\"\n",
        "for w in nltk.word_tokenize(text):\n",
        "  for chunk in nltk.ne_chunk(nltk.pos_tag(nltk.word_tokenize(w))):\n",
        "     if hasattr(chunk, 'label'):\n",
        "        print(chunk.label(), ' '.join(c[0] for c in chunk))"
      ],
      "metadata": {
        "colab": {
          "base_uri": "https://localhost:8080/"
        },
        "id": "fc1dQbpqMHjK",
        "outputId": "31103be2-6d37-4244-8c3f-93cd45555755"
      },
      "execution_count": null,
      "outputs": [
        {
          "output_type": "stream",
          "name": "stdout",
          "text": [
            "GPE Narendra\n",
            "GPE Modi\n",
            "GPE India\n"
          ]
        }
      ]
    },
    {
      "cell_type": "code",
      "source": [],
      "metadata": {
        "id": "XAgUN1nNP-Cr"
      },
      "execution_count": null,
      "outputs": []
    }
  ]
}