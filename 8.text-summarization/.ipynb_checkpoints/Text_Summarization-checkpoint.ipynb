{
  "cells": [
    {
      "cell_type": "markdown",
      "metadata": {
        "id": "ua7CXk20x2V7"
      },
      "source": [
        "## Extractive Text Summarizer using nltk\n",
        "#### Steps:\n",
        "1. Identify a metric to score sentences\n",
        "2. Assign weights to sentences using this metric\n",
        "3. For selecting the sentences to include in the summary, decide the threshold score to use \n",
        "4. Extract summary by selecting sentences with score greater than the threshold"
      ]
    },
    {
      "cell_type": "markdown",
      "metadata": {
        "id": "JdVjW6ePx2WE"
      },
      "source": [
        "### Import the libraries"
      ]
    },
    {
      "cell_type": "code",
      "execution_count": null,
      "metadata": {
        "id": "o6ZpA3lBx2WI"
      },
      "outputs": [],
      "source": [
        "import nltk\n",
        "from nltk.corpus import stopwords\n",
        "from nltk.stem import PorterStemmer\n",
        "from nltk.tokenize import word_tokenize, sent_tokenize"
      ]
    },
    {
      "cell_type": "markdown",
      "metadata": {
        "id": "gKqKA0f9x2Wi"
      },
      "source": [
        "### Create a dictionary of word frequencies in the given text"
      ]
    },
    {
      "cell_type": "code",
      "execution_count": null,
      "metadata": {
        "id": "9QcZk_zwx2Wm"
      },
      "outputs": [],
      "source": [
        "import string\n",
        "punctuations = string.punctuation\n",
        "\n",
        "def create_freq_dict(text_string):\n",
        "    stopWords = set(stopwords.words(\"english\"))\n",
        "    words = word_tokenize(text_string.lower())\n",
        "    ps = PorterStemmer()\n",
        "    # remove punctuations\n",
        "    word_frequencies = dict()\n",
        "    for word in words:\n",
        "        word = ps.stem(word)\n",
        "        if ((word in stopWords) or (word in punctuations)):\n",
        "            continue\n",
        "        if word in word_frequencies:\n",
        "            word_frequencies[word] += 1\n",
        "        else:\n",
        "            word_frequencies[word] = 1\n",
        "\n",
        "    return word_frequencies"
      ]
    },
    {
      "cell_type": "code",
      "execution_count": null,
      "metadata": {
        "id": "pshHuleRCiRP",
        "outputId": "fc50b965-ada9-4edd-ab1c-e0573659319f"
      },
      "outputs": [
        {
          "name": "stdout",
          "output_type": "stream",
          "text": [
            "{'old': 1, 'man': 1, 'live': 2, 'villag': 2, 'wa': 6, 'one': 1, 'unfortun': 1, 'peopl': 2, 'world': 1, 'whole': 1, 'tire': 1, 'alway': 2, 'gloomi': 1, 'constantli': 1, 'complain': 1, 'bad': 1, 'mood': 1, 'longer': 1, 'bile': 1, 'becom': 1, 'poison': 1, 'hi': 2, 'word': 1, 'avoid': 1, 'becaus': 1, 'misfortun': 1, 'becam': 1, 'contagi': 1, 'even': 1, 'unnatur': 1, 'insult': 1, 'happi': 1, 'next': 1}\n"
          ]
        }
      ],
      "source": [
        "mytext = \"\"\"An old man lived in the village. \n",
        "He was one of the most unfortunate people in the world.\n",
        "The whole village was tired of him; he was always gloomy, he constantly complained and was always in a bad mood.\n",
        "The longer he lived, the more bile he was becoming and the more poisonous were his words.\n",
        "People avoided him, because his misfortune became contagious. It was even unnatural and insulting to be happy next to him.\"\"\"\n",
        "\n",
        "mywordfreq = create_freq_dict(mytext)\n",
        "print(mywordfreq)"
      ]
    },
    {
      "cell_type": "markdown",
      "metadata": {
        "id": "qPufbPhtx2Wy"
      },
      "source": [
        "### Calculate score for sentences\n",
        "* Adding the frequency of every non-stop word in a sentence divided by total no of non-stop words in a sentence is the score of that sentence\n",
        "* Adding the frequency of words will give long sentences an advantage over short sentences. To avoid this, we're dividing every sentence score by the number of words in the sentence\n",
        "* Create a dictionary, where the key is the sentence and the value is its score"
      ]
    },
    {
      "cell_type": "code",
      "execution_count": null,
      "metadata": {
        "id": "a7R_ymc2x2W6"
      },
      "outputs": [],
      "source": [
        "def score_sentences(sentences, word_frequencies):\n",
        "    sentence_scores = dict()\n",
        "\n",
        "    for sentence in sentences:\n",
        "        word_count = (len(word_tokenize(sentence)))\n",
        "        word_count_except_sw = 0\n",
        "        for word in word_frequencies:\n",
        "            if word in sentence.lower():\n",
        "                word_count_except_sw += 1\n",
        "                #if sentence[:10] in sentence_scores:\n",
        "                if sentence in sentence_scores:\n",
        "                    #sentence_scores[sentence[:10]] += word_frequencies[word]\n",
        "                    sentence_scores[sentence] += word_frequencies[word]\n",
        "                else:\n",
        "                    #sentence_scores[sentence[:10]] = word_frequencies[word]\n",
        "                    sentence_scores[sentence] = word_frequencies[word]\n",
        "\n",
        "        #if sentence[:10] in sentence_scores:\n",
        "        if sentence in sentence_scores:\n",
        "            # higher no. of words in a sentence should not make its score higher\n",
        "            #sentence_scores[sentence[:10]] = sentence_scores[sentence[:10]] / word_count_except_sw  \n",
        "            sentence_scores[sentence] = sentence_scores[sentence] / word_count_except_sw\n",
        "\n",
        "    return sentence_scores"
      ]
    },
    {
      "cell_type": "code",
      "execution_count": null,
      "metadata": {
        "id": "0zFWFKFaCiRQ",
        "outputId": "212e2659-095b-4217-d7b2-bc58d0dceae9"
      },
      "outputs": [
        {
          "name": "stdout",
          "output_type": "stream",
          "text": [
            "{'An old man lived in the village.': 1.5, 'He was one of the most unfortunate people in the world.': 2.2, 'The whole village was tired of him; he was always gloomy, he constantly complained and was always in a bad mood.': 1.8888888888888888, 'The longer he lived, the more bile he was becoming and the more poisonous were his words.': 1.875, 'People avoided him, because his misfortune became contagious.': 1.2857142857142858, 'It was even unnatural and insulting to be happy next to him.': 2.0}\n"
          ]
        }
      ],
      "source": [
        "mytext = \"\"\"An old man lived in the village. \n",
        "He was one of the most unfortunate people in the world.\n",
        "The whole village was tired of him; he was always gloomy, he constantly complained and was always in a bad mood.\n",
        "The longer he lived, the more bile he was becoming and the more poisonous were his words.\n",
        "People avoided him, because his misfortune became contagious. It was even unnatural and insulting to be happy next to him.\"\"\"\n",
        "mysentences = sent_tokenize(mytext)\n",
        "mysentscores = score_sentences(mysentences, mywordfreq)\n",
        "print(mysentscores)"
      ]
    },
    {
      "cell_type": "code",
      "execution_count": null,
      "metadata": {
        "id": "xHAofGhcCiRQ",
        "outputId": "4136aeb5-1db5-4264-bdc9-6063dc4ff50e"
      },
      "outputs": [
        {
          "data": {
            "text/plain": [
              "dict_keys(['An old man lived in the village.', 'He was one of the most unfortunate people in the world.', 'The whole village was tired of him; he was always gloomy, he constantly complained and was always in a bad mood.', 'The longer he lived, the more bile he was becoming and the more poisonous were his words.', 'People avoided him, because his misfortune became contagious.', 'It was even unnatural and insulting to be happy next to him.'])"
            ]
          },
          "execution_count": 13,
          "metadata": {},
          "output_type": "execute_result"
        }
      ],
      "source": [
        "mysentscores.keys()"
      ]
    },
    {
      "cell_type": "markdown",
      "metadata": {
        "id": "cwroM9Cbx2XF"
      },
      "source": [
        "**Note:** Here sentence[:10] is the first 10 words of any sentence, this is to save memory while saving keys of\n",
        "the dictionary"
      ]
    },
    {
      "cell_type": "markdown",
      "metadata": {
        "id": "NFZz7WZFx2XI"
      },
      "source": [
        "### Function to find the average score\n",
        "The average score will serve to define the threshold for selecting sentences in the summarized description"
      ]
    },
    {
      "cell_type": "code",
      "execution_count": null,
      "metadata": {
        "id": "NJJUlPSyx2XM"
      },
      "outputs": [],
      "source": [
        "def find_average_score(sentence_scores):\n",
        "    sumValues = 0\n",
        "    for sentence in sentence_scores:\n",
        "        sumValues += sentence_scores[sentence]\n",
        "\n",
        "    # Average value of a sentence from original text\n",
        "    average = (sumValues / len(sentence_scores))\n",
        "\n",
        "    return average"
      ]
    },
    {
      "cell_type": "code",
      "execution_count": null,
      "metadata": {
        "id": "0-TB1NHrCiRR",
        "outputId": "5bd585b8-3139-4e5d-cb1b-3d665ae72a7a"
      },
      "outputs": [
        {
          "data": {
            "text/plain": [
              "1.7916005291005292"
            ]
          },
          "execution_count": 16,
          "metadata": {},
          "output_type": "execute_result"
        }
      ],
      "source": [
        "myavg = find_average_score(mysentscores)\n",
        "myavg"
      ]
    },
    {
      "cell_type": "markdown",
      "metadata": {
        "id": "UqfBJCGzx2XY"
      },
      "source": [
        "### Function to generate the summary"
      ]
    },
    {
      "cell_type": "code",
      "execution_count": null,
      "metadata": {
        "id": "q0WdiWMix2Xb"
      },
      "outputs": [],
      "source": [
        "def generate_summary(sentences, sentence_scores, threshold):\n",
        "    sentence_count = 0\n",
        "    summary = ''\n",
        "\n",
        "    for sentence in sentences:\n",
        "        # if sentence[:10] in sentence_scores and sentence_scores[sentence[:10]] >= (threshold):\n",
        "        if sentence in sentence_scores and sentence_scores[sentence] >= (threshold):\n",
        "            summary += \" \" + sentence\n",
        "            sentence_count += 1\n",
        "\n",
        "    return summary"
      ]
    },
    {
      "cell_type": "code",
      "execution_count": null,
      "metadata": {
        "id": "Ybh1eYrxCiRS",
        "outputId": "d84a3701-d240-49b8-9d84-4e7930fe86d4"
      },
      "outputs": [
        {
          "data": {
            "text/plain": [
              "' He was one of the most unfortunate people in the world. It was even unnatural and insulting to be happy next to him.'"
            ]
          },
          "execution_count": 18,
          "metadata": {},
          "output_type": "execute_result"
        }
      ],
      "source": [
        "# mytext = \"\"\"An old man lived in the village. \n",
        "# He was one of the most unfortunate people in the world.\n",
        "# The whole village was tired of him; he was always gloomy, he constantly complained and was always in a bad mood.\n",
        "# The longer he lived, the more bile he was becoming and the more poisonous were his words.\n",
        "# People avoided him, because his misfortune became contagious. It was even unnatural and insulting to be happy next to him.\"\"\"\n",
        "# mysentences = sent_tokenize(mytext)\n",
        "# mysentscores = score_sentences(mysentences, mywordfreq)\n",
        "# myavg = find_average_score(mysentscores)\n",
        "mysummary = generate_summary(mysentences, mysentscores, myavg*1.1)\n",
        "mysummary"
      ]
    },
    {
      "cell_type": "markdown",
      "metadata": {
        "id": "sTL2Jj1ux2Xl"
      },
      "source": [
        "<p>Average score of the sentence is the threshold</p>"
      ]
    },
    {
      "cell_type": "markdown",
      "metadata": {
        "id": "VKIzpPE4x2Xo"
      },
      "source": [
        "### Overall summarization function (calling  the above functions)"
      ]
    },
    {
      "cell_type": "code",
      "execution_count": null,
      "metadata": {
        "id": "r-lvbXbmx2Xr"
      },
      "outputs": [],
      "source": [
        "def run_summarization(text, threshold=1.3):\n",
        "\n",
        "    word_frequencies = create_freq_dict(text)\n",
        "    sentences = sent_tokenize(text)\n",
        "    sentence_scores = score_sentences(sentences, word_frequencies)\n",
        "    sentence_avg_score = find_average_score(sentence_scores)\n",
        "    summary = generate_summary(sentences, sentence_scores, threshold * sentence_avg_score)\n",
        "\n",
        "    return summary"
      ]
    },
    {
      "cell_type": "markdown",
      "metadata": {
        "id": "NgP2F-QMx2X0"
      },
      "source": [
        "### Generate the summary"
      ]
    },
    {
      "cell_type": "code",
      "execution_count": null,
      "metadata": {
        "colab": {
          "base_uri": "https://localhost:8080/",
          "height": 68
        },
        "id": "bUc5OhL2yDNG",
        "outputId": "5339a6b9-b59f-4d99-eb0f-b3db88c7edbe"
      },
      "outputs": [
        {
          "name": "stderr",
          "output_type": "stream",
          "text": [
            "[nltk_data] Downloading package stopwords to\n",
            "[nltk_data]     C:\\Users\\navan\\AppData\\Roaming\\nltk_data...\n",
            "[nltk_data]   Package stopwords is already up-to-date!\n",
            "[nltk_data] Downloading package punkt to\n",
            "[nltk_data]     C:\\Users\\navan\\AppData\\Roaming\\nltk_data...\n",
            "[nltk_data]   Package punkt is already up-to-date!\n"
          ]
        },
        {
          "data": {
            "text/plain": [
              "True"
            ]
          },
          "execution_count": 20,
          "metadata": {},
          "output_type": "execute_result"
        }
      ],
      "source": [
        "import nltk\n",
        "nltk.download('stopwords')\n",
        "nltk.download('punkt')"
      ]
    },
    {
      "cell_type": "markdown",
      "metadata": {
        "id": "e5vT1AR1x2WU"
      },
      "source": [
        "### Example 1 - text summary"
      ]
    },
    {
      "cell_type": "code",
      "execution_count": null,
      "metadata": {
        "id": "xPBg7pGhx2WY"
      },
      "outputs": [],
      "source": [
        "text=\"\"\"\n",
        "An old man lived in the village. He was one of the most unfortunate people in the world. The whole village was tired of him; he was always gloomy, he constantly complained and was always in a bad mood.\n",
        "The longer he lived, the more bile he was becoming and the more poisonous were his words. People avoided him, because his misfortune became contagious. It was even unnatural and insulting to be happy next to him.\n",
        "\n",
        "He created the feeling of unhappiness in others.\n",
        "But one day, when he turned eighty years old, an incredible thing happened. Instantly everyone started hearing the rumour: “An Old Man is happy today, he doesn’t complain about anything, smiles, and even his face is freshened up.”\n",
        "The whole village gathered together. The old man was asked:\n",
        "Villager: What happened to you?\n",
        "“Nothing special. Eighty years I’ve been chasing happiness, and it was useless. And then I decided to live without happiness and just enjoy life. That’s why I’m happy now.” – An Old Man\n",
        "\n",
        "\"\"\""
      ]
    },
    {
      "cell_type": "code",
      "execution_count": null,
      "metadata": {
        "id": "WtySItcxx2X3",
        "outputId": "b5d2d800-6b59-4fc8-9e54-66a0ab0b43ae"
      },
      "outputs": [
        {
          "name": "stdout",
          "output_type": "stream",
          "text": [
            " \n",
            "An old man lived in the village. He was one of the most unfortunate people in the world. The whole village was tired of him; he was always gloomy, he constantly complained and was always in a bad mood. It was even unnatural and insulting to be happy next to him. The old man was asked:\n",
            "Villager: What happened to you? Eighty years I’ve been chasing happiness, and it was useless. That’s why I’m happy now.” – An Old Man\n"
          ]
        }
      ],
      "source": [
        "result = run_summarization(text, 1)\n",
        "print(result)"
      ]
    },
    {
      "cell_type": "markdown",
      "metadata": {
        "id": "XrVVpdRpCiRU"
      },
      "source": [
        "### Example 2 - text summary"
      ]
    },
    {
      "cell_type": "code",
      "execution_count": null,
      "metadata": {
        "id": "NQriAIkEx2YL"
      },
      "outputs": [],
      "source": [
        "# News article - Banks asked to refund charges collected for UPI, digital payments after Jan 1\n",
        "text = \"\"\"\n",
        "In a move to encourage digital payments in the country, the Central Board of Direct Taxes (CBDT) said that banks can not levy any extra charge on transactions made through electronic modes on or after January 1, 2020. \"... based on section 10A of the Payment and Settlement Systems Act 2007, any charge including the MDR (Merchant Discount Rate) shall not be applicable on or after 1st January, 2020 on payment made through prescribed electronic modes,\" CBDT said in a statement.\n",
        "The electronics modes of transactions include 1) Debit card powered by RuPay, 2) Unified Payment Interface (UPI), 3) Unified Payment Interface Quick Response code (UPI QR code), BHIM UPI QR code. \"According to Section 10 A under the Payments and Settlement Systems Act 2007, no bank or system provider shall impose any charge on a payer making payment or beneficiary receiving payment, through electronic modes prescribed under section 269SU of IT Act,\" the CBDT said.\n",
        "The regulator noticed that certain banks collect charges for UPI transactions. A certain number of transactions are free and beyond the limit, bank charges for every UPI payment. \"Such practice on parts of banks is a breach of Section 10A of the PSS Act as well as section 269SU of the IT act,\" the CBDT said in its circular. Hence, the banks can not levy any extra charges for UPI transactions.\n",
        "\n",
        "\"Such breach attracts penal provisions under section 271DB of the IT Act as well as section 26 of the PSS Act,\" CBDT further added.\n",
        "The banks were also advised to refund charges collected from customers for digital transaction on or after January 1, 2020. \"Banks are therefore, advised to immediately refund the charges collected, if any, on or after 1st January, 2020 on transactions carried out using the electronic modes prescribed under section 269SU and not to impose charges on any future transactions carried through the said prescribed mode,\" the regulator mentioned in its circular.\n",
        "UPI-based payments clocked 1.49 billion transactions in July, according data released by National Payments Corp. of India. Digital payments have become a necessity in the wake of coronavirus outbreak. \"Payment systems have demonstrated that they are dependable and durable, and continue to command a high level of confidence from the general population,\" said PwC in its report.\n",
        "With a majority of the sectors that contribute to digital payments still in a state of flux, it is still too early to ascertain the long-term impact of COVID-19 on digital payments, it added.\n",
        "\"\"\""
      ]
    },
    {
      "cell_type": "code",
      "execution_count": null,
      "metadata": {
        "id": "d2rDZZGACiRU",
        "outputId": "001531f3-3e35-4921-ac57-317a658a4000"
      },
      "outputs": [
        {
          "name": "stdout",
          "output_type": "stream",
          "text": [
            " The regulator noticed that certain banks collect charges for UPI transactions. A certain number of transactions are free and beyond the limit, bank charges for every UPI payment. Hence, the banks can not levy any extra charges for UPI transactions.\n"
          ]
        }
      ],
      "source": [
        "result = run_summarization(text, 1.2)\n",
        "print(result)"
      ]
    },
    {
      "cell_type": "markdown",
      "metadata": {
        "id": "sHLT03_bCiRU"
      },
      "source": [
        "### Example 3 - text summary"
      ]
    },
    {
      "cell_type": "code",
      "execution_count": null,
      "metadata": {
        "id": "sTF0UvFsCiRU"
      },
      "outputs": [],
      "source": [
        "# News article - JioFiber Introduces Truly Unlimited Data Broadband Plans Starting at Rs 399: All You Need to Know\n",
        "text = \"\"\"\n",
        "Reliance Jio has been under the radar for not launching impressive JioFiber plans. However, it has finally changed as we now have truly unlimited JioFiber plans starting at just Rs 399. Reliance Jio today announced four new broadband plans under its ‘JioFiber’ brand and they ship with up to 300 Mbps speeds. With these new plans, Jio is aiming at Bharti Airtel and ACT Fibernet by providing faster speeds at lower prices. For example, the newly launched Rs 1,499 broadband plan is a direct competition to Airtel’s Rs 1,499 Premium broadband plan. JioFiber plans will also come with a subscription to 11 OTT apps which is something unique in its own. The ISP also announced a new scheme where users can enjoy a free trial of JioFiber for 30 days without any terms and conditions.\n",
        "\n",
        "JioFiber New Plans Start at Rs 399 With 30 Mbps Unlimited Data\n",
        "JioFiber now has four new plans of Rs 399, Rs 699, Rs 999 and Rs 1,499. The Rs 399 JioFiber plan offers 30 Mbps speeds, unlimited data and unlimited voice calling benefit. The Rs 699 pack will provide a user with 100 Mbps upload & download speeds, unlimited voice calling and there’s no FUP limit as well.\n",
        "\n",
        "The Rs 999 JioFiber broadband plan will offer 150 Mbps speeds, unlimited voice calling and a free subscription to 11 OTT apps. Lastly, we have the Rs 1,499 broadband plan that comes with 300 Mbps speeds, unlimited voice calling benefit and a free subscription to 12 OTT apps. Do make a note that an additional 18% GST will be applicable on all the plans. Long-term plan offers are yet to be revealed by Reliance Jio.\n",
        "\n",
        "Reliance Jio also announced that the new plans would be called ‘JioFiber Home Tariff Plans.’ All the Home plans will have symmetric speed meaning download speed=upload speed. This has been a major issue reported by several JioFiber users as the company used to restrict upload speeds to 10% of the download speeds earlier.\n",
        "\n",
        "JioFiber No-Condition 30-Day Free Trial Announced\n",
        "Alongside the new broadband plans, Reliance Jio also announced that all the new customers would be eligible for free JioFiber trial for 30 days. As part of the trial period, new JioFiber customers will get 150 Mbps internet speeds, 4K Set-Top Box with access to top 10 paid OTT apps at no extra cost and free voice calling benefit.\n",
        "\n",
        "The company says if a customer does not like the service, it will take all the accessories back without asking any questions.\n",
        "\n",
        "Important Points to Note for Existing JioFiber Users\n",
        "It seems like Reliance Jio will be discontinuing the existing JioFiber plans today and the new plans will become effective on September 1. New JioFiber customers activating the service on or after September 1 will get the 30-day free trial benefit. Also, JioFiber customers onboarded between August 15 and August 31 will also get the 30-day free trial benefit as a voucher in MyJio application.\n",
        "\n",
        "Lastly, plans of all existing JioFiber customers will be upgraded to match the benefits of the new tariff plans. Jio did not announce any new affordable 1 Gbps broadband plan.\n",
        "\"\"\""
      ]
    },
    {
      "cell_type": "code",
      "execution_count": null,
      "metadata": {
        "id": "WJ1QhE1WCiRV",
        "outputId": "25d86d7d-5524-48c6-b2be-614fe8c24dc0"
      },
      "outputs": [
        {
          "name": "stdout",
          "output_type": "stream",
          "text": [
            " \n",
            "Reliance Jio has been under the radar for not launching impressive JioFiber plans. The Rs 399 JioFiber plan offers 30 Mbps speeds, unlimited data and unlimited voice calling benefit. Lastly, plans of all existing JioFiber customers will be upgraded to match the benefits of the new tariff plans. Jio did not announce any new affordable 1 Gbps broadband plan.\n"
          ]
        }
      ],
      "source": [
        "result = run_summarization(text, 1.2)\n",
        "print(result)"
      ]
    },
    {
      "cell_type": "markdown",
      "metadata": {
        "id": "q5nyoWgtCiRV"
      },
      "source": [
        "### Example 4 - text summary"
      ]
    },
    {
      "cell_type": "code",
      "execution_count": null,
      "metadata": {
        "id": "bkPFAm7WCiRV"
      },
      "outputs": [],
      "source": [
        "# News Article - Prashant Bhushan Fined ₹ 1. Option: 3 Months In Jail With 3-Year Ban\n",
        "text = \"\"\"\n",
        "Lawyer-activist Prashant Bhushan, held guilty of contempt for his tweets criticising Chief Justice of India SA Bobde and the Supreme Court, has been fined Re 1 by the top court. If he doesn't pay the fine by September 15, he can face jail for three months and a ban from practising for three years.\n",
        "\"Freedom of speech cannot be curtailed,\" said the Supreme Court while handing down the sentence, referring to \"sane advice\" from Attorney General KK Venugopal to the court and to Prashant Bhushan.\n",
        "\n",
        "Prashant Bhushan, photographed holding up a Re 1 coin, told reporters he would reveal later today whether he would pay the fine or confront the other options.\n",
        "\n",
        "\"My lawyer and senior colleague Rajiv Dhavan contributed 1 Re immediately after the contempt judgement today which I gratefully accepted,\" the 63-year-old tweeted.\n",
        "\n",
        "The Supreme Court, which had asked for an unconditional apology from the lawyer, noted, \"We gave several opportunities and encouragement to (Prashant Bhushan) to express regret. He not only gave wide publicity to the second statement but also gave various interviews to press.\"\n",
        "\n",
        "The court was apparently referring to Prashant Bhushan's statement refusing to retract his comments or apologise, saying he considered it the discharge of his \"highest duty\" and apologising would be contempt of his conscience and the court. Mr Bhushan had also said that open criticism was necessary to \"safeguard the democracy and its values.\"\n",
        "\n",
        "The statement \"was to influence independent Judicial function,\" the Supreme Court said, adding that while freedom of expression was important, rights of others should also be respected.\n",
        "\n",
        "The court also referred to the unprecedented press conference by four Supreme Court judges on January 12, 2018, which Mr Bhushan had cited to argue that even judges had gone public with their criticism of the court.\n",
        "\n",
        "\"We hope it was the first and the last occasion that judges have gone to the press, and God gives wisdom to protect its dignity by an internal mechanism. Particularly when allegations made, if any, publicly cannot be met by sufferer judges,\" the Supreme Court said.\n",
        "\n",
        "In the last hearing, Attorney General KK Venugopal had suggested that Mr Bhushan be pardoned with a warning. \"Bhushan's tweets seek the improvement of the administration of justice... Let democracy follow in this case when he has exercised his free speech... It will be tremendously appreciated if the court leaves it at that,\" he had said.\n",
        "\n",
        "Mr Bhushan's counsel Rajeev Dhavan had argued that top court's order giving him time for an unconditional apology, was \"an exercise in coercion\". Mr Dhavan had urged the top court to show \"judicial statesmanship\" and not make Mr Bhushan a \"martyr\" by punishing him for contempt over the tweets.\n",
        "\n",
        "In one of the tweets, Mr Bhushan had said four previous Chief Justices of India played a role in destroying democracy in India in the last six years. Another tweet reacting to a photo of Chief Justice Bobde on a Harley Davidson last month had flagged that he was without a helmet and face mask while keeping the court in lockdown and denying citizens their right to justice.\n",
        "\n",
        "The Supreme Court had said during arguments that freedom of speech is not absolute. \"You may do hundreds of good things, but that doesn't give you a license to do ten crimes,\" the court had said.\n",
        "\n",
        "Mr Bhushan has already expressed regret in another contempt case involving his comment that half the 16 Chief Justices of India were corrupt, in an interview to Tehelka magazine in 2009. The word corruption, he told the court, was used in \"wide sense meaning lack of propriety\" and not financial corruption. The Supreme Court says it wants to explore whether corruption charges can be made against sitting and retired judges and the procedure to deal with it.\n",
        "\"\"\""
      ]
    },
    {
      "cell_type": "code",
      "execution_count": null,
      "metadata": {
        "id": "XjiuhLqzCiRV",
        "outputId": "6e21946b-567b-4112-e7e8-dc66f06e0ac1"
      },
      "outputs": [
        {
          "name": "stdout",
          "output_type": "stream",
          "text": [
            " \n",
            "Lawyer-activist Prashant Bhushan, held guilty of contempt for his tweets criticising Chief Justice of India SA Bobde and the Supreme Court, has been fined Re 1 by the top court.\n"
          ]
        }
      ],
      "source": [
        "result = run_summarization(text, 1.3)\n",
        "print(result)"
      ]
    },
    {
      "cell_type": "code",
      "execution_count": null,
      "metadata": {
        "id": "Ll-5g4i_CiRW"
      },
      "outputs": [],
      "source": [
        "# News Article - World’s first artificial intelligence varsity in Abu Dhabi\n",
        "text = \"\"\"\n",
        "Abu Dhabi today announced the establishment of the Mohamed bin Zayed University of Artificial Intelligence (MBZUAI)\n",
        "\n",
        "It is the first graduate level, research-based AI university in the world. MBZUAI will enable graduate students, businesses, and governments to advance artificial intelligence.\n",
        "\n",
        "The university is named after His Highness Sheikh Mohamed bin Zayed Al Nahyan, Crown Prince of Abu Dhabi and Deputy Supreme Commander of the UAE Armed Forces, who has long advocated for the UAE's development of human capital through knowledge and scientific thinking to take the nation into the future. MBZUAI will introduce a new model of academia and research to the field of AI, providing students and faculty access to some of the world's most advanced AI systems to unleash its potential for economic and societal development.\n",
        "\n",
        "The announcement was made at a press conference at the University campus in Masdar City and was immediately followed by the first meeting of the MBZUAI Board of Trustees.\n",
        "Dr Sultan Ahmed Al Jaber, UAE Minister of State, who has been appointed Chair of the MBZUAI board of trustees and is spearheading the establishment of the University, said: \"Mohamed bin Zayed University of Artificial Intelligence aligns with the vision of the UAE leadership that is based on sustainable development, progress and the overall well-being of humanity and underpinned by capacity-building and active participation in finding practical solutions based on innovation and state-of-the-art technology. As such, the Mohamed bin Zayed University of Artificial Intelligence is an open invitation from Abu Dhabi to the world to unleash AI's full potential.\"\n",
        "\n",
        "\"AI is already changing the world, but we can achieve so much more if we allow the limitless imagination of the human mind to fully explore it,\" he added. \"The university will bring the discipline of AI into the forefront, molding and empowering creative pioneers who can lead us to a new AI empowered era.\"\n",
        "\n",
        "Experts from around the world have been selected for the University's Board of Trustees. They include MBZUAI Interim President, Professor Sir Michael Brady, professor of Oncological Imaging at the University of Oxford, UK; Professor Anil K. Jain, a University Distinguished Professor at Michigan State University, USA; Professor Andrew Chi-Chih Yao, Dean of the Institute for Interdisciplinary Information Sciences at Tsinghua University, Beijing, China; Dr. Kai-Fu Lee, a technology executive and venture capitalist based in Beijing, China; Professor Daniela Rus, Director of Massachusetts Institute of Technology (MIT) Computer Science and Artificial Intelligence Laboratory (CSAIL), USA, and Peng Xiao, CEO of Group 42.\n",
        "\n",
        "The board of trustees will be supported by an advisory board, chaired by Omar Al Olama, Minister of State for Artificial Intelligence and will include Sarah Al Amiri, Minister of State for Advanced Sciences; Dr Ahmad Belhoul Al Falasi, Minister of State for Higher Education and Advanced Skills; Jassim Al Zaabi, Chairman of the Department of Finance, and Dr Wan Li Min, Chief Machine Intelligence Scientist at Alibaba.\n",
        "\n",
        "Over the next decade, AI is set to have a transformational impact on the global economy, with experts estimating that, by 2030, AI could contribute nearly $16 trillion to the global economy . Given this and the UAE's focus on a knowledge-based economy, the country made AI a strategic national priority in 2017, announcing a clear roa map for an AI-driven future through the UAE's Strategy for Artificial Intelligence 2031, and the appointment of the world's first Minister of State for Artificial Intelligence. Experts now estimate that, by 2030, AI's contribution to the UAE's GDP will rise to nearly 14 per cent - the largest GDP share in the Middle East .\n",
        "\n",
        "Al Jaber added: \"The invention of electricity, the railroad, smartphones all transformed the world as we knew it. AI can lead to an ever greater societal and economic transformation, but first we must ensure we have the right infrastructure, talents, and academic institutions. Abu Dhabi's leadership has long recognized the importance of acquiring these capabilities, as evidenced by the vision of Sheikh Mohamed and his firm belief in the importance of knowledge as a tool for social progress. The launch of the Mohamed bin Zayed University of Artificial Intelligence is a clear demonstration of the UAE's commitment to encouraging innovation and empowering younger generations in the UAE and around the world.\"\n",
        "\n",
        "The university will offer Master of Science (MSc) and PhD level programs in key areas of AI - Machine Learning, Computer Vision, and Natural Language Processing - while also engaging policymakers and businesses around the world so that AI is harnessed responsibly as a force for positive transformation.\n",
        "\n",
        "MBZUAI has partnered with the Abu Dhabi-based Inception Institute of Artificial Intelligence (IIAI), a global force in excellence and leadership of AI research, for the supervision of PhD students and curriculum development. IIAI will also serve as a principal partner for collaborative research.\n",
        "\n",
        "MBZUAI will also bring together experts from the AI community by hosting regional and international conferences, seminars and workshops.\n",
        "\n",
        "Professor Sir Michael Brady, Interim President of MBZUAI, said: \"Following decades of research into machine learning and artificial intelligence, we are now at a turning point in the widespread application of advanced intelligence. That evolution is-among other things-creating exciting new career opportunities in nearly every sector of society. At MBZUAI, we will support students to capture those opportunities and to magnify their contribution to the field of AI globally.\"\n",
        "\n",
        "MBZUAI will provide all admitted students with a full scholarship, plus benefits such as a monthly allowance, health insurance, and accommodation. The university will work with leading local and global companies to secure internships, and will also assist students in finding employment opportunities.\n",
        "\n",
        "Graduate students can now apply to MBZUAI via the University's website with registration set to open in August 2020. The first class of graduate students will commence coursework at MBZUAI's Masdar City campus in September 2020.\n",
        "\n",
        "\"\"\"\n"
      ]
    },
    {
      "cell_type": "code",
      "execution_count": null,
      "metadata": {
        "id": "nR-cGB9aCiRW"
      },
      "outputs": [],
      "source": [
        "result = run_summarization(text, 1.2)\n",
        "print(result)"
      ]
    },
    {
      "cell_type": "code",
      "execution_count": null,
      "metadata": {
        "id": "qIdbRtiFCiRW"
      },
      "outputs": [],
      "source": [
        "# Gamble to open with Wade backfired: Border\n",
        "text = \"\"\"\n",
        "Former Australia captain Allan Border feels the gamble to make Matthew Wade open the innings backfired on the hosts as they were bundled out for 191 in their first-innings of the first Day/Night Test against India in Adelaide on Friday.\n",
        "\n",
        "With star opener David Warner ruled out due to a groin injury and young Will Pucovski, who was primed to open in the first Test, suffering a concussion, the home side elevated Wade to the role of an opener.\n",
        "Wade started the innings alongside the woefully out-of-form Joe Burns. The two struggled in the middle and could only manage eight runs each before Indian pace spearhead Jasprit Bumrah accounted for both.\n",
        "Asked if the gamble to go with Wade at the top backfired, Border told foxsports.com.au \"Yeah, exactly that.\"\n",
        "\n",
        "\"It was a gamble because you're shuffling one guy (Wade) from his customary Test match position. Yes, he opens in short-form cricket, but that's a vastly different beast to what they're facing at the moment.\"\n",
        "\n",
        "Wade, who opens for Australia in T20s, has never batted at that spot in Tests. His elevation allowed rookie Cameron Green to take the number six spot.\n",
        "\n",
        "\"... Test match cricket on this sort of surface here, you need to have your wits about you and have a background about how to open the batting,\" Border said.\n",
        "\n",
        "The 65-year-old conceded that he was hoping to see the prodigious Pucovski open the innings.\n",
        "\n",
        "\"I tended to agree with the gamble in that I didn't see an obvious replacement with Pucovski out, I was hoping he'd be fit to play,\" he said.\n",
        "\n",
        "Burns was picked in the playing XI despite his poor run recently. In the two warm-up games ahead of the four-Test series, Burns failed to reach double digits, scoring 4, 0, 0 and 1 in four innings.\n",
        "\n",
        "\"With Burnsy, I mean we were always just worried about that because he hasn't shown any form whatsoever,\" Border said.\n",
        "\n",
        "\"His footwork, mentally he's a bit short and he's just having no luck. Anyway, the experiment didn't work, we were always worried that would be the case,\" Border added.\n",
        "\n",
        "\n",
        "\"\"\""
      ]
    },
    {
      "cell_type": "code",
      "execution_count": null,
      "metadata": {
        "id": "TM6gIuz8CiRW",
        "outputId": "a9d81a48-c463-4c19-a906-6e2b4f1b8b47"
      },
      "outputs": [
        {
          "name": "stdout",
          "output_type": "stream",
          "text": [
            " \"It was a gamble because you're shuffling one guy (Wade) from his customary Test match position. Wade, who opens for Australia in T20s, has never batted at that spot in Tests. The 65-year-old conceded that he was hoping to see the prodigious Pucovski open the innings.\n"
          ]
        }
      ],
      "source": [
        "result = run_summarization(text, 1.2)\n",
        "print(result)"
      ]
    },
    {
      "cell_type": "code",
      "execution_count": null,
      "metadata": {
        "id": "O0LRfGIFCiRW"
      },
      "outputs": [],
      "source": []
    }
  ],
  "metadata": {
    "colab": {
      "provenance": []
    },
    "kernelspec": {
      "display_name": "Python 3",
      "language": "python",
      "name": "python3"
    },
    "language_info": {
      "codemirror_mode": {
        "name": "ipython",
        "version": 3
      },
      "file_extension": ".py",
      "mimetype": "text/x-python",
      "name": "python",
      "nbconvert_exporter": "python",
      "pygments_lexer": "ipython3",
      "version": "3.8.3"
    }
  },
  "nbformat": 4,
  "nbformat_minor": 0
}