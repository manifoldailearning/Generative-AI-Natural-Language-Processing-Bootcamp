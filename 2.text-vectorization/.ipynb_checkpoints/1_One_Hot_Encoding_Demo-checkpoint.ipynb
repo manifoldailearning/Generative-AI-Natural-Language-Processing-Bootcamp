{
  "nbformat": 4,
  "nbformat_minor": 0,
  "metadata": {
    "colab": {
      "provenance": []
    },
    "kernelspec": {
      "name": "python3",
      "display_name": "Python 3"
    },
    "language_info": {
      "name": "python"
    }
  },
  "cells": [
    {
      "cell_type": "code",
      "execution_count": null,
      "metadata": {
        "id": "dSTQznYAhhn-"
      },
      "outputs": [],
      "source": [
        "corpus = ['dog eats meat','man eats meat']"
      ]
    },
    {
      "cell_type": "code",
      "source": [
        "vocab = {}\n",
        "count = 0\n",
        "for doc in corpus:\n",
        "  for word in doc.split():\n",
        "    if word not in vocab:\n",
        "      count = count+1\n",
        "      vocab[word] = count\n",
        "print(vocab)"
      ],
      "metadata": {
        "colab": {
          "base_uri": "https://localhost:8080/"
        },
        "id": "oN2jMPDPh0mE",
        "outputId": "619f6b78-e48f-4e68-cff6-efbfebde2da3"
      },
      "execution_count": null,
      "outputs": [
        {
          "output_type": "stream",
          "name": "stdout",
          "text": [
            "{'dog': 1, 'eats': 2, 'meat': 3, 'man': 4}\n"
          ]
        }
      ]
    },
    {
      "cell_type": "code",
      "source": [
        "l1 = [0]*4\n",
        "l1"
      ],
      "metadata": {
        "colab": {
          "base_uri": "https://localhost:8080/"
        },
        "id": "HGGaCMWsVxp1",
        "outputId": "fc88ec9d-e040-480e-da08-57bfa103904a"
      },
      "execution_count": null,
      "outputs": [
        {
          "output_type": "execute_result",
          "data": {
            "text/plain": [
              "[0, 0, 0, 0]"
            ]
          },
          "metadata": {},
          "execution_count": 22
        }
      ]
    },
    {
      "cell_type": "code",
      "source": [
        "l1[0] = 1 # indexing starts from zero\n",
        "l1"
      ],
      "metadata": {
        "colab": {
          "base_uri": "https://localhost:8080/"
        },
        "id": "ZK8yaliVV4tR",
        "outputId": "66e9c946-3f61-45ed-ad9d-3368540ac643"
      },
      "execution_count": null,
      "outputs": [
        {
          "output_type": "execute_result",
          "data": {
            "text/plain": [
              "[1, 0, 0, 0]"
            ]
          },
          "metadata": {},
          "execution_count": 23
        }
      ]
    },
    {
      "cell_type": "code",
      "source": [
        "def one_hot(doc):\n",
        "  one_hot = []\n",
        "  for word in doc.split():\n",
        "    temp = [0]*len(vocab)\n",
        "    if word in vocab:\n",
        "      temp[vocab[word]-1] = 1\n",
        "    one_hot.append(temp)\n",
        "  return one_hot"
      ],
      "metadata": {
        "id": "O4qY2mXNiEg0"
      },
      "execution_count": null,
      "outputs": []
    },
    {
      "cell_type": "code",
      "source": [
        "one_hot(\"dog eats meat\")"
      ],
      "metadata": {
        "colab": {
          "base_uri": "https://localhost:8080/"
        },
        "id": "sqkSg-w9kK55",
        "outputId": "ca5198cc-5c2c-4c9b-e6d0-9e495ed42278"
      },
      "execution_count": null,
      "outputs": [
        {
          "output_type": "execute_result",
          "data": {
            "text/plain": [
              "[[1, 0, 0, 0], [0, 1, 0, 0], [0, 0, 1, 0]]"
            ]
          },
          "metadata": {},
          "execution_count": 25
        }
      ]
    },
    {
      "cell_type": "markdown",
      "source": [
        "# Scikit learn"
      ],
      "metadata": {
        "id": "k7fc2vy2kZUH"
      }
    },
    {
      "cell_type": "code",
      "source": [
        "doc1 = \"dog bites meat\"\n",
        "doc2 = 'man eats meat'\n",
        "doc3 = 'dog bites man'"
      ],
      "metadata": {
        "id": "h9SE7tKykPup"
      },
      "execution_count": null,
      "outputs": []
    },
    {
      "cell_type": "code",
      "source": [
        "corpus = [doc1.split(),doc2.split(),doc3.split()]\n",
        "my_overall_data  = corpus[0] + corpus[1] + corpus[2] \n",
        "\n",
        "print(f\"My overall data: {my_overall_data}\")\n",
        "\n",
        "#implement Label Encoder\n",
        "from sklearn.preprocessing import LabelEncoder"
      ],
      "metadata": {
        "colab": {
          "base_uri": "https://localhost:8080/"
        },
        "id": "3QEGp_4FkwBg",
        "outputId": "9216d944-11df-449d-d4ce-98bb30bdfae7"
      },
      "execution_count": null,
      "outputs": [
        {
          "output_type": "stream",
          "name": "stdout",
          "text": [
            "My overall data: ['dog', 'bites', 'meat', 'man', 'eats', 'meat', 'dog', 'bites', 'man']\n"
          ]
        }
      ]
    },
    {
      "cell_type": "code",
      "source": [
        "le = LabelEncoder()\n",
        "integer_data = le.fit_transform(my_overall_data)\n",
        "print(f\"Integer Values are: {integer_data}\")"
      ],
      "metadata": {
        "colab": {
          "base_uri": "https://localhost:8080/"
        },
        "id": "oaYhJ1EjlR6c",
        "outputId": "19f63acb-4eee-4e43-a413-241154cda575"
      },
      "execution_count": null,
      "outputs": [
        {
          "output_type": "stream",
          "name": "stdout",
          "text": [
            "Integer Values are: [1 0 4 3 2 4 1 0 3]\n"
          ]
        }
      ]
    },
    {
      "cell_type": "code",
      "source": [
        "doc1,doc2"
      ],
      "metadata": {
        "id": "jSnuXDVJmDvk"
      },
      "execution_count": null,
      "outputs": []
    },
    {
      "cell_type": "code",
      "source": [
        "from sklearn.preprocessing import OneHotEncoder\n",
        "one_hot_encoder = OneHotEncoder()\n",
        "one_hot_encoder.fit_transform(corpus).toarray()"
      ],
      "metadata": {
        "colab": {
          "base_uri": "https://localhost:8080/"
        },
        "id": "7J7GxwQllcVC",
        "outputId": "46487baf-e8c5-4396-a210-63d1c90149d5"
      },
      "execution_count": null,
      "outputs": [
        {
          "output_type": "execute_result",
          "data": {
            "text/plain": [
              "array([[1., 0., 1., 0., 0., 1.],\n",
              "       [0., 1., 0., 1., 0., 1.],\n",
              "       [1., 0., 1., 0., 1., 0.]])"
            ]
          },
          "metadata": {},
          "execution_count": 29
        }
      ]
    },
    {
      "cell_type": "code",
      "source": [
        "one_hot_encoder.transform([\"dog eats meat\".split()]).toarray()"
      ],
      "metadata": {
        "colab": {
          "base_uri": "https://localhost:8080/"
        },
        "id": "w3795b81A4oW",
        "outputId": "abf91d93-198b-409f-f4f1-c7a5eb8c8d4f"
      },
      "execution_count": null,
      "outputs": [
        {
          "output_type": "execute_result",
          "data": {
            "text/plain": [
              "array([[1., 0., 0., 1., 0., 1.]])"
            ]
          },
          "metadata": {},
          "execution_count": 30
        }
      ]
    },
    {
      "cell_type": "code",
      "source": [],
      "metadata": {
        "id": "CRxIVHc4C1TW"
      },
      "execution_count": null,
      "outputs": []
    }
  ]
}