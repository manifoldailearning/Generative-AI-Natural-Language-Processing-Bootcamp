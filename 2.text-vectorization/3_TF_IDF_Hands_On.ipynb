{
 "cells": [
  {
   "cell_type": "code",
   "execution_count": null,
   "metadata": {
    "id": "NUJ8Ulf3SF22"
   },
   "outputs": [],
   "source": [
    "#Important - when a word is repeated most in a document, but not present in any other document  (sentence)\n",
    "# Stopwords  - score will be less\n",
    "# unique words repeated in a sentece - score will be high\n",
    "\n",
    "#neural_network "
   ]
  },
  {
   "cell_type": "code",
   "execution_count": null,
   "metadata": {
    "id": "f9TwdIr5TPxC"
   },
   "outputs": [],
   "source": [
    "import pandas as pd\n",
    "import math\n",
    "import sklearn"
   ]
  },
  {
   "cell_type": "code",
   "execution_count": null,
   "metadata": {
    "colab": {
     "base_uri": "https://localhost:8080/"
    },
    "id": "kIntcrcRTSzJ",
    "outputId": "27366a76-3067-4f39-b975-5e61a960669c"
   },
   "outputs": [
    {
     "data": {
      "text/plain": [
       "{'Amazing',\n",
       " 'Data',\n",
       " 'Deep',\n",
       " 'Science',\n",
       " 'a',\n",
       " 'an',\n",
       " 'career',\n",
       " 'current',\n",
       " 'in',\n",
       " 'is',\n",
       " 'learning',\n",
       " 'machine',\n",
       " 'of',\n",
       " 'subset',\n",
       " 'the',\n",
       " 'world'}"
      ]
     },
     "execution_count": 3,
     "metadata": {},
     "output_type": "execute_result"
    }
   ],
   "source": [
    "first_sent = \"Data Science is an Amazing career in the current world\"\n",
    "second_sent = \"Deep learning is a subset of machine learning\"\n",
    "\n",
    "first_sent = first_sent.split(\" \")\n",
    "second_sent = second_sent.split(' ')\n",
    "vocab = set(first_sent).union(set(second_sent))\n",
    "vocab"
   ]
  },
  {
   "cell_type": "code",
   "execution_count": null,
   "metadata": {
    "colab": {
     "base_uri": "https://localhost:8080/"
    },
    "id": "pDdm_JnLTrI0",
    "outputId": "cb531098-03eb-4ed5-baec-c4321da5bba8"
   },
   "outputs": [
    {
     "data": {
      "text/plain": [
       "{'machine': 0,\n",
       " 'learning': 0,\n",
       " 'is': 0,\n",
       " 'a': 0,\n",
       " 'in': 0,\n",
       " 'of': 0,\n",
       " 'career': 0,\n",
       " 'Amazing': 0,\n",
       " 'the': 0,\n",
       " 'subset': 0,\n",
       " 'Science': 0,\n",
       " 'world': 0,\n",
       " 'an': 0,\n",
       " 'Deep': 0,\n",
       " 'Data': 0,\n",
       " 'current': 0}"
      ]
     },
     "execution_count": 4,
     "metadata": {},
     "output_type": "execute_result"
    }
   ],
   "source": [
    "wordDict1 = dict.fromkeys(vocab,0)\n",
    "wordDict2 = dict.fromkeys(vocab,0)\n",
    "wordDict1"
   ]
  },
  {
   "cell_type": "code",
   "execution_count": null,
   "metadata": {
    "colab": {
     "base_uri": "https://localhost:8080/"
    },
    "id": "xUpREvWKT5sm",
    "outputId": "db3a2346-bceb-47bc-83cc-48b104af1551"
   },
   "outputs": [
    {
     "data": {
      "text/plain": [
       "{'machine': 0,\n",
       " 'learning': 0,\n",
       " 'is': 0,\n",
       " 'a': 0,\n",
       " 'in': 0,\n",
       " 'of': 0,\n",
       " 'career': 0,\n",
       " 'Amazing': 0,\n",
       " 'the': 0,\n",
       " 'subset': 0,\n",
       " 'Science': 0,\n",
       " 'world': 0,\n",
       " 'an': 0,\n",
       " 'Deep': 0,\n",
       " 'Data': 0,\n",
       " 'current': 0}"
      ]
     },
     "execution_count": 5,
     "metadata": {},
     "output_type": "execute_result"
    }
   ],
   "source": [
    "wordDict2"
   ]
  },
  {
   "cell_type": "code",
   "execution_count": null,
   "metadata": {
    "id": "RulYmvh-T8cv"
   },
   "outputs": [],
   "source": [
    "for word in first_sent:\n",
    "  wordDict1[word] += 1\n",
    "\n",
    "for word in second_sent:\n",
    "  wordDict2[word] += 1"
   ]
  },
  {
   "cell_type": "code",
   "execution_count": null,
   "metadata": {
    "colab": {
     "base_uri": "https://localhost:8080/"
    },
    "id": "1J8_TfR3UHcV",
    "outputId": "08216fae-710b-41aa-9419-f0204d1989b9"
   },
   "outputs": [
    {
     "data": {
      "text/plain": [
       "{'machine': 0,\n",
       " 'learning': 0,\n",
       " 'is': 1,\n",
       " 'a': 0,\n",
       " 'in': 1,\n",
       " 'of': 0,\n",
       " 'career': 1,\n",
       " 'Amazing': 1,\n",
       " 'the': 1,\n",
       " 'subset': 0,\n",
       " 'Science': 1,\n",
       " 'world': 1,\n",
       " 'an': 1,\n",
       " 'Deep': 0,\n",
       " 'Data': 1,\n",
       " 'current': 1}"
      ]
     },
     "execution_count": 7,
     "metadata": {},
     "output_type": "execute_result"
    }
   ],
   "source": [
    "wordDict1"
   ]
  },
  {
   "cell_type": "code",
   "execution_count": null,
   "metadata": {
    "colab": {
     "base_uri": "https://localhost:8080/"
    },
    "id": "WK5D6vwgUNxw",
    "outputId": "2fbd9fd0-1ee7-458a-b157-7345fbf01d3e"
   },
   "outputs": [
    {
     "data": {
      "text/plain": [
       "['Deep', 'learning', 'is', 'a', 'subset', 'of', 'machine', 'learning']"
      ]
     },
     "execution_count": 9,
     "metadata": {},
     "output_type": "execute_result"
    }
   ],
   "source": [
    "second_sent"
   ]
  },
  {
   "cell_type": "code",
   "execution_count": null,
   "metadata": {
    "colab": {
     "base_uri": "https://localhost:8080/"
    },
    "id": "xV5pY6ntUJZ7",
    "outputId": "12da1d9d-92d1-429a-dc84-e6f1c50e79b4"
   },
   "outputs": [
    {
     "data": {
      "text/plain": [
       "{'machine': 1,\n",
       " 'learning': 2,\n",
       " 'is': 1,\n",
       " 'a': 1,\n",
       " 'in': 0,\n",
       " 'of': 1,\n",
       " 'career': 0,\n",
       " 'Amazing': 0,\n",
       " 'the': 0,\n",
       " 'subset': 1,\n",
       " 'Science': 0,\n",
       " 'world': 0,\n",
       " 'an': 0,\n",
       " 'Deep': 1,\n",
       " 'Data': 0,\n",
       " 'current': 0}"
      ]
     },
     "execution_count": 8,
     "metadata": {},
     "output_type": "execute_result"
    }
   ],
   "source": [
    "wordDict2"
   ]
  },
  {
   "cell_type": "code",
   "execution_count": null,
   "metadata": {
    "colab": {
     "base_uri": "https://localhost:8080/",
     "height": 112
    },
    "id": "HqsGJFCiULgG",
    "outputId": "c3fb5b8d-1dc0-416c-a5f7-8444813a24d7"
   },
   "outputs": [
    {
     "data": {
      "text/html": [
       "\n",
       "  <div id=\"df-a219dea1-bf80-48f4-b7da-255133a8c75c\">\n",
       "    <div class=\"colab-df-container\">\n",
       "      <div>\n",
       "<style scoped>\n",
       "    .dataframe tbody tr th:only-of-type {\n",
       "        vertical-align: middle;\n",
       "    }\n",
       "\n",
       "    .dataframe tbody tr th {\n",
       "        vertical-align: top;\n",
       "    }\n",
       "\n",
       "    .dataframe thead th {\n",
       "        text-align: right;\n",
       "    }\n",
       "</style>\n",
       "<table border=\"1\" class=\"dataframe\">\n",
       "  <thead>\n",
       "    <tr style=\"text-align: right;\">\n",
       "      <th></th>\n",
       "      <th>machine</th>\n",
       "      <th>learning</th>\n",
       "      <th>is</th>\n",
       "      <th>a</th>\n",
       "      <th>in</th>\n",
       "      <th>of</th>\n",
       "      <th>career</th>\n",
       "      <th>Amazing</th>\n",
       "      <th>the</th>\n",
       "      <th>subset</th>\n",
       "      <th>Science</th>\n",
       "      <th>world</th>\n",
       "      <th>an</th>\n",
       "      <th>Deep</th>\n",
       "      <th>Data</th>\n",
       "      <th>current</th>\n",
       "    </tr>\n",
       "  </thead>\n",
       "  <tbody>\n",
       "    <tr>\n",
       "      <th>0</th>\n",
       "      <td>0</td>\n",
       "      <td>0</td>\n",
       "      <td>1</td>\n",
       "      <td>0</td>\n",
       "      <td>1</td>\n",
       "      <td>0</td>\n",
       "      <td>1</td>\n",
       "      <td>1</td>\n",
       "      <td>1</td>\n",
       "      <td>0</td>\n",
       "      <td>1</td>\n",
       "      <td>1</td>\n",
       "      <td>1</td>\n",
       "      <td>0</td>\n",
       "      <td>1</td>\n",
       "      <td>1</td>\n",
       "    </tr>\n",
       "    <tr>\n",
       "      <th>1</th>\n",
       "      <td>1</td>\n",
       "      <td>2</td>\n",
       "      <td>1</td>\n",
       "      <td>1</td>\n",
       "      <td>0</td>\n",
       "      <td>1</td>\n",
       "      <td>0</td>\n",
       "      <td>0</td>\n",
       "      <td>0</td>\n",
       "      <td>1</td>\n",
       "      <td>0</td>\n",
       "      <td>0</td>\n",
       "      <td>0</td>\n",
       "      <td>1</td>\n",
       "      <td>0</td>\n",
       "      <td>0</td>\n",
       "    </tr>\n",
       "  </tbody>\n",
       "</table>\n",
       "</div>\n",
       "      <button class=\"colab-df-convert\" onclick=\"convertToInteractive('df-a219dea1-bf80-48f4-b7da-255133a8c75c')\"\n",
       "              title=\"Convert this dataframe to an interactive table.\"\n",
       "              style=\"display:none;\">\n",
       "        \n",
       "  <svg xmlns=\"http://www.w3.org/2000/svg\" height=\"24px\"viewBox=\"0 0 24 24\"\n",
       "       width=\"24px\">\n",
       "    <path d=\"M0 0h24v24H0V0z\" fill=\"none\"/>\n",
       "    <path d=\"M18.56 5.44l.94 2.06.94-2.06 2.06-.94-2.06-.94-.94-2.06-.94 2.06-2.06.94zm-11 1L8.5 8.5l.94-2.06 2.06-.94-2.06-.94L8.5 2.5l-.94 2.06-2.06.94zm10 10l.94 2.06.94-2.06 2.06-.94-2.06-.94-.94-2.06-.94 2.06-2.06.94z\"/><path d=\"M17.41 7.96l-1.37-1.37c-.4-.4-.92-.59-1.43-.59-.52 0-1.04.2-1.43.59L10.3 9.45l-7.72 7.72c-.78.78-.78 2.05 0 2.83L4 21.41c.39.39.9.59 1.41.59.51 0 1.02-.2 1.41-.59l7.78-7.78 2.81-2.81c.8-.78.8-2.07 0-2.86zM5.41 20L4 18.59l7.72-7.72 1.47 1.35L5.41 20z\"/>\n",
       "  </svg>\n",
       "      </button>\n",
       "      \n",
       "  <style>\n",
       "    .colab-df-container {\n",
       "      display:flex;\n",
       "      flex-wrap:wrap;\n",
       "      gap: 12px;\n",
       "    }\n",
       "\n",
       "    .colab-df-convert {\n",
       "      background-color: #E8F0FE;\n",
       "      border: none;\n",
       "      border-radius: 50%;\n",
       "      cursor: pointer;\n",
       "      display: none;\n",
       "      fill: #1967D2;\n",
       "      height: 32px;\n",
       "      padding: 0 0 0 0;\n",
       "      width: 32px;\n",
       "    }\n",
       "\n",
       "    .colab-df-convert:hover {\n",
       "      background-color: #E2EBFA;\n",
       "      box-shadow: 0px 1px 2px rgba(60, 64, 67, 0.3), 0px 1px 3px 1px rgba(60, 64, 67, 0.15);\n",
       "      fill: #174EA6;\n",
       "    }\n",
       "\n",
       "    [theme=dark] .colab-df-convert {\n",
       "      background-color: #3B4455;\n",
       "      fill: #D2E3FC;\n",
       "    }\n",
       "\n",
       "    [theme=dark] .colab-df-convert:hover {\n",
       "      background-color: #434B5C;\n",
       "      box-shadow: 0px 1px 3px 1px rgba(0, 0, 0, 0.15);\n",
       "      filter: drop-shadow(0px 1px 2px rgba(0, 0, 0, 0.3));\n",
       "      fill: #FFFFFF;\n",
       "    }\n",
       "  </style>\n",
       "\n",
       "      <script>\n",
       "        const buttonEl =\n",
       "          document.querySelector('#df-a219dea1-bf80-48f4-b7da-255133a8c75c button.colab-df-convert');\n",
       "        buttonEl.style.display =\n",
       "          google.colab.kernel.accessAllowed ? 'block' : 'none';\n",
       "\n",
       "        async function convertToInteractive(key) {\n",
       "          const element = document.querySelector('#df-a219dea1-bf80-48f4-b7da-255133a8c75c');\n",
       "          const dataTable =\n",
       "            await google.colab.kernel.invokeFunction('convertToInteractive',\n",
       "                                                     [key], {});\n",
       "          if (!dataTable) return;\n",
       "\n",
       "          const docLinkHtml = 'Like what you see? Visit the ' +\n",
       "            '<a target=\"_blank\" href=https://colab.research.google.com/notebooks/data_table.ipynb>data table notebook</a>'\n",
       "            + ' to learn more about interactive tables.';\n",
       "          element.innerHTML = '';\n",
       "          dataTable['output_type'] = 'display_data';\n",
       "          await google.colab.output.renderOutput(dataTable, element);\n",
       "          const docLink = document.createElement('div');\n",
       "          docLink.innerHTML = docLinkHtml;\n",
       "          element.appendChild(docLink);\n",
       "        }\n",
       "      </script>\n",
       "    </div>\n",
       "  </div>\n",
       "  "
      ],
      "text/plain": [
       "   machine  learning  is  a  in  of  career  Amazing  the  subset  Science  \\\n",
       "0        0         0   1  0   1   0       1        1    1       0        1   \n",
       "1        1         2   1  1   0   1       0        0    0       1        0   \n",
       "\n",
       "   world  an  Deep  Data  current  \n",
       "0      1   1     0     1        1  \n",
       "1      0   0     1     0        0  "
      ]
     },
     "execution_count": 10,
     "metadata": {},
     "output_type": "execute_result"
    }
   ],
   "source": [
    "df = pd.DataFrame([wordDict1,wordDict2])\n",
    "df"
   ]
  },
  {
   "cell_type": "code",
   "execution_count": null,
   "metadata": {
    "id": "dF_13sWXUX9E"
   },
   "outputs": [],
   "source": [
    "#tf = freq of a word in a document/total number of words in a document\n",
    "\n",
    "def calculateTF(wordDict, doc):\n",
    "  tfDict = {}\n",
    "  len_corpus = len(doc)\n",
    "\n",
    "  for word,count in wordDict.items():\n",
    "    tfDict[word] = count/len_corpus\n",
    "  \n",
    "  return tfDict"
   ]
  },
  {
   "cell_type": "code",
   "execution_count": null,
   "metadata": {
    "id": "p3O_Zq3RVBse"
   },
   "outputs": [],
   "source": [
    "tf1 = calculateTF(wordDict1,first_sent)\n",
    "tf2 = calculateTF(wordDict2,second_sent)"
   ]
  },
  {
   "cell_type": "code",
   "execution_count": null,
   "metadata": {
    "colab": {
     "base_uri": "https://localhost:8080/",
     "height": 112
    },
    "id": "xZnSY8uXVF1a",
    "outputId": "fed9f682-e2f9-4d1c-f323-cbd2950c863d"
   },
   "outputs": [
    {
     "data": {
      "text/html": [
       "\n",
       "  <div id=\"df-d42f03d8-cc06-4748-8378-19dd5704f96c\">\n",
       "    <div class=\"colab-df-container\">\n",
       "      <div>\n",
       "<style scoped>\n",
       "    .dataframe tbody tr th:only-of-type {\n",
       "        vertical-align: middle;\n",
       "    }\n",
       "\n",
       "    .dataframe tbody tr th {\n",
       "        vertical-align: top;\n",
       "    }\n",
       "\n",
       "    .dataframe thead th {\n",
       "        text-align: right;\n",
       "    }\n",
       "</style>\n",
       "<table border=\"1\" class=\"dataframe\">\n",
       "  <thead>\n",
       "    <tr style=\"text-align: right;\">\n",
       "      <th></th>\n",
       "      <th>machine</th>\n",
       "      <th>learning</th>\n",
       "      <th>is</th>\n",
       "      <th>a</th>\n",
       "      <th>in</th>\n",
       "      <th>of</th>\n",
       "      <th>career</th>\n",
       "      <th>Amazing</th>\n",
       "      <th>the</th>\n",
       "      <th>subset</th>\n",
       "      <th>Science</th>\n",
       "      <th>world</th>\n",
       "      <th>an</th>\n",
       "      <th>Deep</th>\n",
       "      <th>Data</th>\n",
       "      <th>current</th>\n",
       "    </tr>\n",
       "  </thead>\n",
       "  <tbody>\n",
       "    <tr>\n",
       "      <th>0</th>\n",
       "      <td>0.000</td>\n",
       "      <td>0.00</td>\n",
       "      <td>0.100</td>\n",
       "      <td>0.000</td>\n",
       "      <td>0.1</td>\n",
       "      <td>0.000</td>\n",
       "      <td>0.1</td>\n",
       "      <td>0.1</td>\n",
       "      <td>0.1</td>\n",
       "      <td>0.000</td>\n",
       "      <td>0.1</td>\n",
       "      <td>0.1</td>\n",
       "      <td>0.1</td>\n",
       "      <td>0.000</td>\n",
       "      <td>0.1</td>\n",
       "      <td>0.1</td>\n",
       "    </tr>\n",
       "    <tr>\n",
       "      <th>1</th>\n",
       "      <td>0.125</td>\n",
       "      <td>0.25</td>\n",
       "      <td>0.125</td>\n",
       "      <td>0.125</td>\n",
       "      <td>0.0</td>\n",
       "      <td>0.125</td>\n",
       "      <td>0.0</td>\n",
       "      <td>0.0</td>\n",
       "      <td>0.0</td>\n",
       "      <td>0.125</td>\n",
       "      <td>0.0</td>\n",
       "      <td>0.0</td>\n",
       "      <td>0.0</td>\n",
       "      <td>0.125</td>\n",
       "      <td>0.0</td>\n",
       "      <td>0.0</td>\n",
       "    </tr>\n",
       "  </tbody>\n",
       "</table>\n",
       "</div>\n",
       "      <button class=\"colab-df-convert\" onclick=\"convertToInteractive('df-d42f03d8-cc06-4748-8378-19dd5704f96c')\"\n",
       "              title=\"Convert this dataframe to an interactive table.\"\n",
       "              style=\"display:none;\">\n",
       "        \n",
       "  <svg xmlns=\"http://www.w3.org/2000/svg\" height=\"24px\"viewBox=\"0 0 24 24\"\n",
       "       width=\"24px\">\n",
       "    <path d=\"M0 0h24v24H0V0z\" fill=\"none\"/>\n",
       "    <path d=\"M18.56 5.44l.94 2.06.94-2.06 2.06-.94-2.06-.94-.94-2.06-.94 2.06-2.06.94zm-11 1L8.5 8.5l.94-2.06 2.06-.94-2.06-.94L8.5 2.5l-.94 2.06-2.06.94zm10 10l.94 2.06.94-2.06 2.06-.94-2.06-.94-.94-2.06-.94 2.06-2.06.94z\"/><path d=\"M17.41 7.96l-1.37-1.37c-.4-.4-.92-.59-1.43-.59-.52 0-1.04.2-1.43.59L10.3 9.45l-7.72 7.72c-.78.78-.78 2.05 0 2.83L4 21.41c.39.39.9.59 1.41.59.51 0 1.02-.2 1.41-.59l7.78-7.78 2.81-2.81c.8-.78.8-2.07 0-2.86zM5.41 20L4 18.59l7.72-7.72 1.47 1.35L5.41 20z\"/>\n",
       "  </svg>\n",
       "      </button>\n",
       "      \n",
       "  <style>\n",
       "    .colab-df-container {\n",
       "      display:flex;\n",
       "      flex-wrap:wrap;\n",
       "      gap: 12px;\n",
       "    }\n",
       "\n",
       "    .colab-df-convert {\n",
       "      background-color: #E8F0FE;\n",
       "      border: none;\n",
       "      border-radius: 50%;\n",
       "      cursor: pointer;\n",
       "      display: none;\n",
       "      fill: #1967D2;\n",
       "      height: 32px;\n",
       "      padding: 0 0 0 0;\n",
       "      width: 32px;\n",
       "    }\n",
       "\n",
       "    .colab-df-convert:hover {\n",
       "      background-color: #E2EBFA;\n",
       "      box-shadow: 0px 1px 2px rgba(60, 64, 67, 0.3), 0px 1px 3px 1px rgba(60, 64, 67, 0.15);\n",
       "      fill: #174EA6;\n",
       "    }\n",
       "\n",
       "    [theme=dark] .colab-df-convert {\n",
       "      background-color: #3B4455;\n",
       "      fill: #D2E3FC;\n",
       "    }\n",
       "\n",
       "    [theme=dark] .colab-df-convert:hover {\n",
       "      background-color: #434B5C;\n",
       "      box-shadow: 0px 1px 3px 1px rgba(0, 0, 0, 0.15);\n",
       "      filter: drop-shadow(0px 1px 2px rgba(0, 0, 0, 0.3));\n",
       "      fill: #FFFFFF;\n",
       "    }\n",
       "  </style>\n",
       "\n",
       "      <script>\n",
       "        const buttonEl =\n",
       "          document.querySelector('#df-d42f03d8-cc06-4748-8378-19dd5704f96c button.colab-df-convert');\n",
       "        buttonEl.style.display =\n",
       "          google.colab.kernel.accessAllowed ? 'block' : 'none';\n",
       "\n",
       "        async function convertToInteractive(key) {\n",
       "          const element = document.querySelector('#df-d42f03d8-cc06-4748-8378-19dd5704f96c');\n",
       "          const dataTable =\n",
       "            await google.colab.kernel.invokeFunction('convertToInteractive',\n",
       "                                                     [key], {});\n",
       "          if (!dataTable) return;\n",
       "\n",
       "          const docLinkHtml = 'Like what you see? Visit the ' +\n",
       "            '<a target=\"_blank\" href=https://colab.research.google.com/notebooks/data_table.ipynb>data table notebook</a>'\n",
       "            + ' to learn more about interactive tables.';\n",
       "          element.innerHTML = '';\n",
       "          dataTable['output_type'] = 'display_data';\n",
       "          await google.colab.output.renderOutput(dataTable, element);\n",
       "          const docLink = document.createElement('div');\n",
       "          docLink.innerHTML = docLinkHtml;\n",
       "          element.appendChild(docLink);\n",
       "        }\n",
       "      </script>\n",
       "    </div>\n",
       "  </div>\n",
       "  "
      ],
      "text/plain": [
       "   machine  learning     is      a   in     of  career  Amazing  the  subset  \\\n",
       "0    0.000      0.00  0.100  0.000  0.1  0.000     0.1      0.1  0.1   0.000   \n",
       "1    0.125      0.25  0.125  0.125  0.0  0.125     0.0      0.0  0.0   0.125   \n",
       "\n",
       "   Science  world   an   Deep  Data  current  \n",
       "0      0.1    0.1  0.1  0.000   0.1      0.1  \n",
       "1      0.0    0.0  0.0  0.125   0.0      0.0  "
      ]
     },
     "execution_count": 15,
     "metadata": {},
     "output_type": "execute_result"
    }
   ],
   "source": [
    "tf = pd.DataFrame([tf1,tf2])\n",
    "tf"
   ]
  },
  {
   "cell_type": "code",
   "execution_count": null,
   "metadata": {
    "id": "ROWc3zKhVQXa"
   },
   "outputs": [],
   "source": [
    "import nltk\n",
    "nltk.download('stopwords')\n",
    "from nltk.corpus import stopwords\n",
    "stopwords.words('english')"
   ]
  },
  {
   "cell_type": "code",
   "execution_count": null,
   "metadata": {
    "id": "mPpDkEJwVnlI"
   },
   "outputs": [],
   "source": [
    "f1 = [word for word in wordDict1 if word.lower() not in stopwords.words('english') ]\n",
    "f2 = [word for word in wordDict2 if word.lower() not in stopwords.words('english') ]"
   ]
  },
  {
   "cell_type": "code",
   "execution_count": null,
   "metadata": {
    "colab": {
     "base_uri": "https://localhost:8080/"
    },
    "id": "31vgyH5xV9VW",
    "outputId": "3812a630-55da-47d4-ee85-da8f79608819"
   },
   "outputs": [
    {
     "data": {
      "text/plain": [
       "['machine',\n",
       " 'learning',\n",
       " 'career',\n",
       " 'Amazing',\n",
       " 'subset',\n",
       " 'Science',\n",
       " 'world',\n",
       " 'Deep',\n",
       " 'Data',\n",
       " 'current']"
      ]
     },
     "execution_count": 23,
     "metadata": {},
     "output_type": "execute_result"
    }
   ],
   "source": [
    "f1"
   ]
  },
  {
   "cell_type": "code",
   "execution_count": null,
   "metadata": {
    "colab": {
     "base_uri": "https://localhost:8080/"
    },
    "id": "rDbZhmEkWFuE",
    "outputId": "31f477b8-640c-466f-8f29-a8c5c1b8db71"
   },
   "outputs": [
    {
     "data": {
      "text/plain": [
       "['machine',\n",
       " 'learning',\n",
       " 'career',\n",
       " 'Amazing',\n",
       " 'subset',\n",
       " 'Science',\n",
       " 'world',\n",
       " 'Deep',\n",
       " 'Data',\n",
       " 'current']"
      ]
     },
     "execution_count": 24,
     "metadata": {},
     "output_type": "execute_result"
    }
   ],
   "source": [
    "f2"
   ]
  },
  {
   "cell_type": "code",
   "execution_count": null,
   "metadata": {
    "id": "OCIhqmZZWHLh"
   },
   "outputs": [],
   "source": [
    "def calculateIDF(doc):\n",
    "  idfDict = {}\n",
    "  len_doc = len(doc)\n",
    "\n",
    "  idfDict = dict.fromkeys(doc[0].keys(), 0)\n",
    "  for word, val in idfDict.items():\n",
    "      idfDict[word] = math.log10(len_doc / (float(val) + 1))\n",
    "        \n",
    "  return(idfDict)"
   ]
  },
  {
   "cell_type": "code",
   "execution_count": null,
   "metadata": {
    "id": "WsZkBuCEcUYE"
   },
   "outputs": [],
   "source": [
    "wordDict1"
   ]
  },
  {
   "cell_type": "code",
   "execution_count": null,
   "metadata": {
    "id": "-7Pph8YrbYt4"
   },
   "outputs": [],
   "source": [
    "idfs = calculateIDF([wordDict1, wordDict2])"
   ]
  },
  {
   "cell_type": "code",
   "execution_count": null,
   "metadata": {
    "colab": {
     "base_uri": "https://localhost:8080/"
    },
    "id": "ZQCpHvWbbdsK",
    "outputId": "a4f86b8f-311e-4dd3-be53-18f5a43edb5b"
   },
   "outputs": [
    {
     "data": {
      "text/plain": [
       "{'machine': 0.3010299956639812,\n",
       " 'learning': 0.3010299956639812,\n",
       " 'is': 0.3010299956639812,\n",
       " 'a': 0.3010299956639812,\n",
       " 'in': 0.3010299956639812,\n",
       " 'of': 0.3010299956639812,\n",
       " 'career': 0.3010299956639812,\n",
       " 'Amazing': 0.3010299956639812,\n",
       " 'the': 0.3010299956639812,\n",
       " 'subset': 0.3010299956639812,\n",
       " 'Science': 0.3010299956639812,\n",
       " 'world': 0.3010299956639812,\n",
       " 'an': 0.3010299956639812,\n",
       " 'Deep': 0.3010299956639812,\n",
       " 'Data': 0.3010299956639812,\n",
       " 'current': 0.3010299956639812}"
      ]
     },
     "execution_count": 35,
     "metadata": {},
     "output_type": "execute_result"
    }
   ],
   "source": [
    "idfs"
   ]
  },
  {
   "cell_type": "code",
   "execution_count": null,
   "metadata": {
    "colab": {
     "base_uri": "https://localhost:8080/"
    },
    "id": "KmUyqpdJcwfV",
    "outputId": "ff960071-7944-4485-a31a-dd4406c4c6da"
   },
   "outputs": [
    {
     "data": {
      "text/plain": [
       "{'machine': 0.0,\n",
       " 'learning': 0.0,\n",
       " 'is': 0.1,\n",
       " 'a': 0.0,\n",
       " 'in': 0.1,\n",
       " 'of': 0.0,\n",
       " 'career': 0.1,\n",
       " 'Amazing': 0.1,\n",
       " 'the': 0.1,\n",
       " 'subset': 0.0,\n",
       " 'Science': 0.1,\n",
       " 'world': 0.1,\n",
       " 'an': 0.1,\n",
       " 'Deep': 0.0,\n",
       " 'Data': 0.1,\n",
       " 'current': 0.1}"
      ]
     },
     "execution_count": 36,
     "metadata": {},
     "output_type": "execute_result"
    }
   ],
   "source": [
    "tf1"
   ]
  },
  {
   "cell_type": "code",
   "execution_count": null,
   "metadata": {
    "colab": {
     "base_uri": "https://localhost:8080/",
     "height": 176
    },
    "id": "xG8ybWvJbeoZ",
    "outputId": "c1c79f13-4d31-4a30-e848-be03ca929109"
   },
   "outputs": [
    {
     "data": {
      "text/html": [
       "\n",
       "  <div id=\"df-5852987a-2190-4dfc-8199-d7a1bd206d01\">\n",
       "    <div class=\"colab-df-container\">\n",
       "      <div>\n",
       "<style scoped>\n",
       "    .dataframe tbody tr th:only-of-type {\n",
       "        vertical-align: middle;\n",
       "    }\n",
       "\n",
       "    .dataframe tbody tr th {\n",
       "        vertical-align: top;\n",
       "    }\n",
       "\n",
       "    .dataframe thead th {\n",
       "        text-align: right;\n",
       "    }\n",
       "</style>\n",
       "<table border=\"1\" class=\"dataframe\">\n",
       "  <thead>\n",
       "    <tr style=\"text-align: right;\">\n",
       "      <th></th>\n",
       "      <th>machine</th>\n",
       "      <th>learning</th>\n",
       "      <th>is</th>\n",
       "      <th>a</th>\n",
       "      <th>in</th>\n",
       "      <th>of</th>\n",
       "      <th>career</th>\n",
       "      <th>Amazing</th>\n",
       "      <th>the</th>\n",
       "      <th>subset</th>\n",
       "      <th>Science</th>\n",
       "      <th>world</th>\n",
       "      <th>an</th>\n",
       "      <th>Deep</th>\n",
       "      <th>Data</th>\n",
       "      <th>current</th>\n",
       "    </tr>\n",
       "  </thead>\n",
       "  <tbody>\n",
       "    <tr>\n",
       "      <th>0</th>\n",
       "      <td>0.000000</td>\n",
       "      <td>0.000000</td>\n",
       "      <td>0.030103</td>\n",
       "      <td>0.000000</td>\n",
       "      <td>0.030103</td>\n",
       "      <td>0.000000</td>\n",
       "      <td>0.030103</td>\n",
       "      <td>0.030103</td>\n",
       "      <td>0.030103</td>\n",
       "      <td>0.000000</td>\n",
       "      <td>0.030103</td>\n",
       "      <td>0.030103</td>\n",
       "      <td>0.030103</td>\n",
       "      <td>0.000000</td>\n",
       "      <td>0.030103</td>\n",
       "      <td>0.030103</td>\n",
       "    </tr>\n",
       "    <tr>\n",
       "      <th>1</th>\n",
       "      <td>0.037629</td>\n",
       "      <td>0.075257</td>\n",
       "      <td>0.037629</td>\n",
       "      <td>0.037629</td>\n",
       "      <td>0.000000</td>\n",
       "      <td>0.037629</td>\n",
       "      <td>0.000000</td>\n",
       "      <td>0.000000</td>\n",
       "      <td>0.000000</td>\n",
       "      <td>0.037629</td>\n",
       "      <td>0.000000</td>\n",
       "      <td>0.000000</td>\n",
       "      <td>0.000000</td>\n",
       "      <td>0.037629</td>\n",
       "      <td>0.000000</td>\n",
       "      <td>0.000000</td>\n",
       "    </tr>\n",
       "  </tbody>\n",
       "</table>\n",
       "</div>\n",
       "      <button class=\"colab-df-convert\" onclick=\"convertToInteractive('df-5852987a-2190-4dfc-8199-d7a1bd206d01')\"\n",
       "              title=\"Convert this dataframe to an interactive table.\"\n",
       "              style=\"display:none;\">\n",
       "        \n",
       "  <svg xmlns=\"http://www.w3.org/2000/svg\" height=\"24px\"viewBox=\"0 0 24 24\"\n",
       "       width=\"24px\">\n",
       "    <path d=\"M0 0h24v24H0V0z\" fill=\"none\"/>\n",
       "    <path d=\"M18.56 5.44l.94 2.06.94-2.06 2.06-.94-2.06-.94-.94-2.06-.94 2.06-2.06.94zm-11 1L8.5 8.5l.94-2.06 2.06-.94-2.06-.94L8.5 2.5l-.94 2.06-2.06.94zm10 10l.94 2.06.94-2.06 2.06-.94-2.06-.94-.94-2.06-.94 2.06-2.06.94z\"/><path d=\"M17.41 7.96l-1.37-1.37c-.4-.4-.92-.59-1.43-.59-.52 0-1.04.2-1.43.59L10.3 9.45l-7.72 7.72c-.78.78-.78 2.05 0 2.83L4 21.41c.39.39.9.59 1.41.59.51 0 1.02-.2 1.41-.59l7.78-7.78 2.81-2.81c.8-.78.8-2.07 0-2.86zM5.41 20L4 18.59l7.72-7.72 1.47 1.35L5.41 20z\"/>\n",
       "  </svg>\n",
       "      </button>\n",
       "      \n",
       "  <style>\n",
       "    .colab-df-container {\n",
       "      display:flex;\n",
       "      flex-wrap:wrap;\n",
       "      gap: 12px;\n",
       "    }\n",
       "\n",
       "    .colab-df-convert {\n",
       "      background-color: #E8F0FE;\n",
       "      border: none;\n",
       "      border-radius: 50%;\n",
       "      cursor: pointer;\n",
       "      display: none;\n",
       "      fill: #1967D2;\n",
       "      height: 32px;\n",
       "      padding: 0 0 0 0;\n",
       "      width: 32px;\n",
       "    }\n",
       "\n",
       "    .colab-df-convert:hover {\n",
       "      background-color: #E2EBFA;\n",
       "      box-shadow: 0px 1px 2px rgba(60, 64, 67, 0.3), 0px 1px 3px 1px rgba(60, 64, 67, 0.15);\n",
       "      fill: #174EA6;\n",
       "    }\n",
       "\n",
       "    [theme=dark] .colab-df-convert {\n",
       "      background-color: #3B4455;\n",
       "      fill: #D2E3FC;\n",
       "    }\n",
       "\n",
       "    [theme=dark] .colab-df-convert:hover {\n",
       "      background-color: #434B5C;\n",
       "      box-shadow: 0px 1px 3px 1px rgba(0, 0, 0, 0.15);\n",
       "      filter: drop-shadow(0px 1px 2px rgba(0, 0, 0, 0.3));\n",
       "      fill: #FFFFFF;\n",
       "    }\n",
       "  </style>\n",
       "\n",
       "      <script>\n",
       "        const buttonEl =\n",
       "          document.querySelector('#df-5852987a-2190-4dfc-8199-d7a1bd206d01 button.colab-df-convert');\n",
       "        buttonEl.style.display =\n",
       "          google.colab.kernel.accessAllowed ? 'block' : 'none';\n",
       "\n",
       "        async function convertToInteractive(key) {\n",
       "          const element = document.querySelector('#df-5852987a-2190-4dfc-8199-d7a1bd206d01');\n",
       "          const dataTable =\n",
       "            await google.colab.kernel.invokeFunction('convertToInteractive',\n",
       "                                                     [key], {});\n",
       "          if (!dataTable) return;\n",
       "\n",
       "          const docLinkHtml = 'Like what you see? Visit the ' +\n",
       "            '<a target=\"_blank\" href=https://colab.research.google.com/notebooks/data_table.ipynb>data table notebook</a>'\n",
       "            + ' to learn more about interactive tables.';\n",
       "          element.innerHTML = '';\n",
       "          dataTable['output_type'] = 'display_data';\n",
       "          await google.colab.output.renderOutput(dataTable, element);\n",
       "          const docLink = document.createElement('div');\n",
       "          docLink.innerHTML = docLinkHtml;\n",
       "          element.appendChild(docLink);\n",
       "        }\n",
       "      </script>\n",
       "    </div>\n",
       "  </div>\n",
       "  "
      ],
      "text/plain": [
       "    machine  learning        is         a        in        of    career  \\\n",
       "0  0.000000  0.000000  0.030103  0.000000  0.030103  0.000000  0.030103   \n",
       "1  0.037629  0.075257  0.037629  0.037629  0.000000  0.037629  0.000000   \n",
       "\n",
       "    Amazing       the    subset   Science     world        an      Deep  \\\n",
       "0  0.030103  0.030103  0.000000  0.030103  0.030103  0.030103  0.000000   \n",
       "1  0.000000  0.000000  0.037629  0.000000  0.000000  0.000000  0.037629   \n",
       "\n",
       "       Data   current  \n",
       "0  0.030103  0.030103  \n",
       "1  0.000000  0.000000  "
      ]
     },
     "execution_count": 37,
     "metadata": {},
     "output_type": "execute_result"
    }
   ],
   "source": [
    "def computeTFIDF(tfBow, idfs):\n",
    "    tfidf = {}\n",
    "    for word, val in tfBow.items():\n",
    "        tfidf[word] = val*idfs[word]\n",
    "    return(tfidf)\n",
    "idf1 = computeTFIDF(tf1, idfs)\n",
    "idf2 = computeTFIDF(tf2, idfs)\n",
    "#putting it in a dataframe\n",
    "idf= pd.DataFrame([idf1, idf2])\n",
    "idf"
   ]
  },
  {
   "cell_type": "markdown",
   "metadata": {
    "id": "Y6a2aEwlc_fz"
   },
   "source": [
    "# Sklearn library"
   ]
  },
  {
   "cell_type": "code",
   "execution_count": null,
   "metadata": {
    "colab": {
     "base_uri": "https://localhost:8080/"
    },
    "id": "aDTFctFSc-61",
    "outputId": "91b6f125-85b2-4405-b1f1-95bbe9b2dfea"
   },
   "outputs": [
    {
     "data": {
      "text/plain": [
       "array([[0.32433627, 0.32433627, 0.32433627, 0.32433627, 0.32433627,\n",
       "        0.        , 0.32433627, 0.23076793, 0.        , 0.        ,\n",
       "        0.        , 0.32433627, 0.        , 0.32433627, 0.32433627],\n",
       "       [0.        , 0.        , 0.        , 0.        , 0.        ,\n",
       "        0.34287126, 0.        , 0.24395573, 0.68574252, 0.34287126,\n",
       "        0.34287126, 0.        , 0.34287126, 0.        , 0.        ]])"
      ]
     },
     "execution_count": 41,
     "metadata": {},
     "output_type": "execute_result"
    }
   ],
   "source": [
    "from sklearn.feature_extraction.text import TfidfVectorizer\n",
    "first_sent = \"Data Science is an Amazing career in the current world\"\n",
    "second_sent = \"Deep learning is a subset of machine learning\"\n",
    "\n",
    "vec = TfidfVectorizer()\n",
    "result = vec.fit_transform([first_sent,second_sent])\n",
    "result.toarray()"
   ]
  },
  {
   "cell_type": "code",
   "execution_count": null,
   "metadata": {
    "colab": {
     "base_uri": "https://localhost:8080/",
     "height": 176
    },
    "id": "eUn0S7gnb-L6",
    "outputId": "ae4b8ee6-6b39-434d-ef95-f46e2b638cb7"
   },
   "outputs": [
    {
     "data": {
      "text/html": [
       "\n",
       "  <div id=\"df-97f5f1d9-f7c2-4d0f-8900-dedae74759e5\">\n",
       "    <div class=\"colab-df-container\">\n",
       "      <div>\n",
       "<style scoped>\n",
       "    .dataframe tbody tr th:only-of-type {\n",
       "        vertical-align: middle;\n",
       "    }\n",
       "\n",
       "    .dataframe tbody tr th {\n",
       "        vertical-align: top;\n",
       "    }\n",
       "\n",
       "    .dataframe thead th {\n",
       "        text-align: right;\n",
       "    }\n",
       "</style>\n",
       "<table border=\"1\" class=\"dataframe\">\n",
       "  <thead>\n",
       "    <tr style=\"text-align: right;\">\n",
       "      <th></th>\n",
       "      <th>amazing</th>\n",
       "      <th>an</th>\n",
       "      <th>career</th>\n",
       "      <th>current</th>\n",
       "      <th>data</th>\n",
       "      <th>deep</th>\n",
       "      <th>in</th>\n",
       "      <th>is</th>\n",
       "      <th>learning</th>\n",
       "      <th>machine</th>\n",
       "      <th>of</th>\n",
       "      <th>science</th>\n",
       "      <th>subset</th>\n",
       "      <th>the</th>\n",
       "      <th>world</th>\n",
       "    </tr>\n",
       "  </thead>\n",
       "  <tbody>\n",
       "    <tr>\n",
       "      <th>0</th>\n",
       "      <td>0.324336</td>\n",
       "      <td>0.324336</td>\n",
       "      <td>0.324336</td>\n",
       "      <td>0.324336</td>\n",
       "      <td>0.324336</td>\n",
       "      <td>0.000000</td>\n",
       "      <td>0.324336</td>\n",
       "      <td>0.230768</td>\n",
       "      <td>0.000000</td>\n",
       "      <td>0.000000</td>\n",
       "      <td>0.000000</td>\n",
       "      <td>0.324336</td>\n",
       "      <td>0.000000</td>\n",
       "      <td>0.324336</td>\n",
       "      <td>0.324336</td>\n",
       "    </tr>\n",
       "    <tr>\n",
       "      <th>1</th>\n",
       "      <td>0.000000</td>\n",
       "      <td>0.000000</td>\n",
       "      <td>0.000000</td>\n",
       "      <td>0.000000</td>\n",
       "      <td>0.000000</td>\n",
       "      <td>0.342871</td>\n",
       "      <td>0.000000</td>\n",
       "      <td>0.243956</td>\n",
       "      <td>0.685743</td>\n",
       "      <td>0.342871</td>\n",
       "      <td>0.342871</td>\n",
       "      <td>0.000000</td>\n",
       "      <td>0.342871</td>\n",
       "      <td>0.000000</td>\n",
       "      <td>0.000000</td>\n",
       "    </tr>\n",
       "  </tbody>\n",
       "</table>\n",
       "</div>\n",
       "      <button class=\"colab-df-convert\" onclick=\"convertToInteractive('df-97f5f1d9-f7c2-4d0f-8900-dedae74759e5')\"\n",
       "              title=\"Convert this dataframe to an interactive table.\"\n",
       "              style=\"display:none;\">\n",
       "        \n",
       "  <svg xmlns=\"http://www.w3.org/2000/svg\" height=\"24px\"viewBox=\"0 0 24 24\"\n",
       "       width=\"24px\">\n",
       "    <path d=\"M0 0h24v24H0V0z\" fill=\"none\"/>\n",
       "    <path d=\"M18.56 5.44l.94 2.06.94-2.06 2.06-.94-2.06-.94-.94-2.06-.94 2.06-2.06.94zm-11 1L8.5 8.5l.94-2.06 2.06-.94-2.06-.94L8.5 2.5l-.94 2.06-2.06.94zm10 10l.94 2.06.94-2.06 2.06-.94-2.06-.94-.94-2.06-.94 2.06-2.06.94z\"/><path d=\"M17.41 7.96l-1.37-1.37c-.4-.4-.92-.59-1.43-.59-.52 0-1.04.2-1.43.59L10.3 9.45l-7.72 7.72c-.78.78-.78 2.05 0 2.83L4 21.41c.39.39.9.59 1.41.59.51 0 1.02-.2 1.41-.59l7.78-7.78 2.81-2.81c.8-.78.8-2.07 0-2.86zM5.41 20L4 18.59l7.72-7.72 1.47 1.35L5.41 20z\"/>\n",
       "  </svg>\n",
       "      </button>\n",
       "      \n",
       "  <style>\n",
       "    .colab-df-container {\n",
       "      display:flex;\n",
       "      flex-wrap:wrap;\n",
       "      gap: 12px;\n",
       "    }\n",
       "\n",
       "    .colab-df-convert {\n",
       "      background-color: #E8F0FE;\n",
       "      border: none;\n",
       "      border-radius: 50%;\n",
       "      cursor: pointer;\n",
       "      display: none;\n",
       "      fill: #1967D2;\n",
       "      height: 32px;\n",
       "      padding: 0 0 0 0;\n",
       "      width: 32px;\n",
       "    }\n",
       "\n",
       "    .colab-df-convert:hover {\n",
       "      background-color: #E2EBFA;\n",
       "      box-shadow: 0px 1px 2px rgba(60, 64, 67, 0.3), 0px 1px 3px 1px rgba(60, 64, 67, 0.15);\n",
       "      fill: #174EA6;\n",
       "    }\n",
       "\n",
       "    [theme=dark] .colab-df-convert {\n",
       "      background-color: #3B4455;\n",
       "      fill: #D2E3FC;\n",
       "    }\n",
       "\n",
       "    [theme=dark] .colab-df-convert:hover {\n",
       "      background-color: #434B5C;\n",
       "      box-shadow: 0px 1px 3px 1px rgba(0, 0, 0, 0.15);\n",
       "      filter: drop-shadow(0px 1px 2px rgba(0, 0, 0, 0.3));\n",
       "      fill: #FFFFFF;\n",
       "    }\n",
       "  </style>\n",
       "\n",
       "      <script>\n",
       "        const buttonEl =\n",
       "          document.querySelector('#df-97f5f1d9-f7c2-4d0f-8900-dedae74759e5 button.colab-df-convert');\n",
       "        buttonEl.style.display =\n",
       "          google.colab.kernel.accessAllowed ? 'block' : 'none';\n",
       "\n",
       "        async function convertToInteractive(key) {\n",
       "          const element = document.querySelector('#df-97f5f1d9-f7c2-4d0f-8900-dedae74759e5');\n",
       "          const dataTable =\n",
       "            await google.colab.kernel.invokeFunction('convertToInteractive',\n",
       "                                                     [key], {});\n",
       "          if (!dataTable) return;\n",
       "\n",
       "          const docLinkHtml = 'Like what you see? Visit the ' +\n",
       "            '<a target=\"_blank\" href=https://colab.research.google.com/notebooks/data_table.ipynb>data table notebook</a>'\n",
       "            + ' to learn more about interactive tables.';\n",
       "          element.innerHTML = '';\n",
       "          dataTable['output_type'] = 'display_data';\n",
       "          await google.colab.output.renderOutput(dataTable, element);\n",
       "          const docLink = document.createElement('div');\n",
       "          docLink.innerHTML = docLinkHtml;\n",
       "          element.appendChild(docLink);\n",
       "        }\n",
       "      </script>\n",
       "    </div>\n",
       "  </div>\n",
       "  "
      ],
      "text/plain": [
       "    amazing        an    career   current      data      deep        in  \\\n",
       "0  0.324336  0.324336  0.324336  0.324336  0.324336  0.000000  0.324336   \n",
       "1  0.000000  0.000000  0.000000  0.000000  0.000000  0.342871  0.000000   \n",
       "\n",
       "         is  learning   machine        of   science    subset       the  \\\n",
       "0  0.230768  0.000000  0.000000  0.000000  0.324336  0.000000  0.324336   \n",
       "1  0.243956  0.685743  0.342871  0.342871  0.000000  0.342871  0.000000   \n",
       "\n",
       "      world  \n",
       "0  0.324336  \n",
       "1  0.000000  "
      ]
     },
     "execution_count": 42,
     "metadata": {},
     "output_type": "execute_result"
    }
   ],
   "source": [
    "pd.DataFrame(result.toarray(),columns= vec.get_feature_names_out())"
   ]
  },
  {
   "cell_type": "code",
   "execution_count": null,
   "metadata": {
    "id": "d2l_Vp-Bdnyv"
   },
   "outputs": [],
   "source": []
  }
 ],
 "metadata": {
  "colab": {
   "provenance": []
  },
  "kernelspec": {
   "display_name": "Python 3 (ipykernel)",
   "language": "python",
   "name": "python3"
  },
  "language_info": {
   "codemirror_mode": {
    "name": "ipython",
    "version": 3
   },
   "file_extension": ".py",
   "mimetype": "text/x-python",
   "name": "python",
   "nbconvert_exporter": "python",
   "pygments_lexer": "ipython3",
   "version": "3.11.7"
  }
 },
 "nbformat": 4,
 "nbformat_minor": 4
}
